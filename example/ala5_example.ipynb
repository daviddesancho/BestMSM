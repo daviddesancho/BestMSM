{
 "metadata": {
  "celltoolbar": "Raw Cell Format",
  "name": "",
  "signature": "sha256:7849cd1becc336fc5b1d3426a00c0c5b10ebc7d287cf295c4d86b493d342e8b5"
 },
 "nbformat": 3,
 "nbformat_minor": 0,
 "worksheets": [
  {
   "cells": [
    {
     "cell_type": "heading",
     "level": 1,
     "metadata": {},
     "source": [
      "A simple working example of the BestMSM package"
     ]
    },
    {
     "cell_type": "markdown",
     "metadata": {},
     "source": [
      "The following provides a minimal example to how the BestMSM package works. We construct an MSM using data from explicit water atomistic simulations of the ala5 peptide, the small molecule that you can see below.\n",
      "<img src=\"files/ala5_nowater.png\" width=\"200\">."
     ]
    },
    {
     "cell_type": "heading",
     "level": 3,
     "metadata": {},
     "source": [
      "Loading the trajectory data"
     ]
    },
    {
     "cell_type": "markdown",
     "metadata": {},
     "source": [
      "The first thing that you must do is to import the trajectory module from the BestMSM package."
     ]
    },
    {
     "cell_type": "code",
     "collapsed": false,
     "input": [
      "import bestmsm.trajectory as traj"
     ],
     "language": "python",
     "metadata": {},
     "outputs": [],
     "prompt_number": 1
    },
    {
     "cell_type": "markdown",
     "metadata": {},
     "source": [
      "The only required input is the name of the file with strings corresponding to time-stamps and state names (or indexes or whatever you want; they'll be handled as strings). In the current example states look like the following:"
     ]
    },
    {
     "cell_type": "markdown",
     "metadata": {},
     "source": [
      "```1 11111\n",
      "2 11111\n",
      "3 11111\n",
      "4 11111\n",
      "5 11111\n",
      "6 11111\n",
      "7 11111\n",
      "8 11110\n",
      "9 11100\n",
      "...\n",
      "```"
     ]
    },
    {
     "cell_type": "markdown",
     "metadata": {},
     "source": [
      "These strings are just helix-coil states for the ala5 pentapeptide. Ones (\"1\") indicate that a residue is in the helical configuration of the Ramachandran map, while zeros (\"0\") correspond to the coil region (most of what we see here are fully helical states)."
     ]
    },
    {
     "cell_type": "markdown",
     "metadata": {},
     "source": [
      "Then we generate an instance of the TimeSeries class"
     ]
    },
    {
     "cell_type": "code",
     "collapsed": false,
     "input": [
      "traj_ala5 = traj.TimeSeries(\"files/ala5_32states_timeseries.dat\")"
     ],
     "language": "python",
     "metadata": {},
     "outputs": [],
     "prompt_number": 2
    },
    {
     "cell_type": "markdown",
     "metadata": {},
     "source": [
      "The TimeSeries class has a number of atributes, which we can explore. These attributes are the time stamps of the snapshots of the trajectory ('`time`'), the corresponding the states ('`states`'), and the names of the states ('`keys`'), the lag between snapshots ('`dt`') and the filename ('`filename`'). For example, in this case, the lag between snapshots is 1 unit of time (in this case, picoseconds)."
     ]
    },
    {
     "cell_type": "code",
     "collapsed": false,
     "input": [
      "traj_ala5.dt"
     ],
     "language": "python",
     "metadata": {},
     "outputs": [
      {
       "metadata": {},
       "output_type": "pyout",
       "prompt_number": 3,
       "text": [
        "1.0"
       ]
      }
     ],
     "prompt_number": 3
    },
    {
     "cell_type": "heading",
     "level": 3,
     "metadata": {},
     "source": [
      "Generating an MSM"
     ]
    },
    {
     "cell_type": "markdown",
     "metadata": {},
     "source": [
      "Having read one or multiple trajectories we now invoke the MasterMSM class."
     ]
    },
    {
     "cell_type": "code",
     "collapsed": false,
     "input": [
      "%pylab inline \n",
      "import bestmsm.msm as msm\n",
      "msm_ala5 = msm.MasterMSM([traj_ala5])"
     ],
     "language": "python",
     "metadata": {},
     "outputs": [
      {
       "output_type": "stream",
       "stream": "stdout",
       "text": [
        "Populating the interactive namespace from numpy and matplotlib\n",
        "\n",
        " Building MSM from \n"
       ]
      },
      {
       "output_type": "stream",
       "stream": "stdout",
       "text": [
        "['files/ala5_32states_timeseries.dat']\n",
        "     # states: 32\n"
       ]
      }
     ],
     "prompt_number": 4
    },
    {
     "cell_type": "markdown",
     "metadata": {},
     "source": [
      "The instance of the `MasterMSM class` starts off only with the trajectories (or instances of the `trajectory` class) we created above."
     ]
    },
    {
     "cell_type": "code",
     "collapsed": false,
     "input": [
      "print msm_ala5.keys"
     ],
     "language": "python",
     "metadata": {},
     "outputs": [
      {
       "output_type": "stream",
       "stream": "stdout",
       "text": [
        "['11111', '11110', '01111', '01110', '01101', '01100', '01000', '01001', '11000', '00000', '11001', '01011', '01010', '00010', '00110', '10110', '10111', '10100', '10101', '10001', '10000', '10010', '00111', '11101', '00101', '00100', '00011', '10011', '11011', '11100', '00001', '11010']\n"
       ]
      }
     ],
     "prompt_number": 5
    },
    {
     "cell_type": "markdown",
     "metadata": {},
     "source": [
      "For multiple files, MasterMSM will merge the keys from the different trajectories and make a common set. Alternatively, one can provide the list of states to be considered. This option may be useful in different situations. For example, we may want states to be ordered in a predefined way. Or we may want to entirely disregard states that we know are very rarely populated. In this case, the instance of the MasterMSM class would be generated in the following way."
     ]
    },
    {
     "cell_type": "code",
     "collapsed": false,
     "input": [
      "msm_ala5 = msm.MasterMSM([traj_ala5], filekeys=\"files/states\")"
     ],
     "language": "python",
     "metadata": {},
     "outputs": [
      {
       "output_type": "stream",
       "stream": "stdout",
       "text": [
        "\n",
        " Building MSM from \n",
        "['files/ala5_32states_timeseries.dat']\n",
        "     # states: 32\n"
       ]
      }
     ],
     "prompt_number": 6
    },
    {
     "cell_type": "markdown",
     "metadata": {},
     "source": [
      "This way we have given a list of 32 states which are sorted by the number of helical residues. You can check that the states are ordered so that the first few are mostly coil and the last few are fully helical. This may turn out to be more convenient in this case."
     ]
    },
    {
     "cell_type": "code",
     "collapsed": false,
     "input": [
      "print msm_ala5.keys "
     ],
     "language": "python",
     "metadata": {},
     "outputs": [
      {
       "output_type": "stream",
       "stream": "stdout",
       "text": [
        "['00000', '00001', '00010', '10000', '00100', '01000', '10001', '00110', '01001', '00011', '10010', '10100', '00101', '11000', '01010', '01100', '10011', '01011', '01101', '10101', '10110', '11001', '01110', '00111', '11010', '11100', '01111', '10111', '11110', '11011', '11101', '11111']\n"
       ]
      }
     ],
     "prompt_number": 7
    },
    {
     "cell_type": "markdown",
     "metadata": {},
     "source": [
      "###Calculating interesting stuff"
     ]
    },
    {
     "cell_type": "markdown",
     "metadata": {},
     "source": [
      "Now that you have generated your MSM, you can start computing interesting things. You probably want to generate a count matrix, a transition matrix and a rate matrix, and possibly derive relaxation times and equilibrium probabilities from them. In order to do this, we generate an instance of the `MSM` class. The way things are organized in BestMSM, you may never have to deal with the MSM class directly. Everything can be orchestrated from `MasterMSM`."
     ]
    },
    {
     "cell_type": "markdown",
     "metadata": {},
     "source": [
      "So what we do is to generate the MSM for a given lag time using the data loaded before. Here we naively choose 5 picoseconds"
     ]
    },
    {
     "cell_type": "code",
     "collapsed": false,
     "input": [
      "msm_ala5.do_msm(5)"
     ],
     "language": "python",
     "metadata": {},
     "outputs": [],
     "prompt_number": 8
    },
    {
     "cell_type": "markdown",
     "metadata": {},
     "source": [
      "When invoking the `do_msm` method a lot of stuff has happened under the hood. First, a transition count matrix has been computed, and then the connectivity of that matrix has been checked. Finally, the transition matrix and its eigenvalues and eigenvectors have been produced. Below you can find plots of the eigenvalues and eigenvectors of the transition matrix."
     ]
    },
    {
     "cell_type": "code",
     "collapsed": false,
     "input": [
      "fig, axarr = plt.subplots(2)\n",
      "axarr[0].plot(msm_ala5.msms[5].peqT, 'o-')\n",
      "axarr[0].set_xlabel(r'State')\n",
      "axarr[0].set_ylabel(r'$P_{eq}$')\n",
      "axarr[0].set_xlim([-1,32])\n",
      "axarr[1].semilogy(msm_ala5.msms[5].tauT, 'o-')\n",
      "axarr[1].set_xlim([-1,32])\n",
      "axarr[1].set_xlabel(r'Eigenvalue')\n",
      "axarr[1].set_ylabel(r'$\\tau$')\n",
      "fig.tight_layout()\n",
      "plt.show()\n",
      "\n"
     ],
     "language": "python",
     "metadata": {},
     "outputs": [
      {
       "metadata": {},
       "output_type": "display_data",
       "png": "[encoded data removed]",
       "text": [
        "<matplotlib.figure.Figure at 0x10f583b90>"
       ]
      }
     ],
     "prompt_number": 9
    },
    {
     "cell_type": "markdown",
     "metadata": {},
     "source": [
      "Here we are of course looking at the equilibrium probabilities of all the states (top panel, with the indexes corresponding to the indexes of the `keys`) and at the relaxation times of the system, sorted from slow to fast."
     ]
    },
    {
     "cell_type": "markdown",
     "metadata": {},
     "source": [
      "###Chapman-Kolmogorov tests"
     ]
    },
    {
     "cell_type": "markdown",
     "metadata": {},
     "source": [
      "Although the example above gives some idea of the available functionalitites, you may want to start finding out which lag time is a sensible choice for your system. In order to do that, you want to know the dependence of your model with respect to the lag time used to construct it. In order to identify the right lag time, we usually look at the convergence of certain properties as a function of the lag time."
     ]
    },
    {
     "cell_type": "markdown",
     "metadata": {},
     "source": [
      "One of the first tests is the dependence of the relaxation times with the lag time used to compute the transition count matrix. This test is readily available in the MasterMSM class."
     ]
    },
    {
     "cell_type": "code",
     "collapsed": false,
     "input": [
      "msm_ala5.convergence_test(plot=True, N=5, error=False, sliding=True)"
     ],
     "language": "python",
     "metadata": {},
     "outputs": [
      {
       "output_type": "stream",
       "stream": "stdout",
       "text": [
        "\n",
        " Convergence test for the MSM: looking at implied timescales\n",
        "\n",
        "    Generating MSM at lag time: 1\n"
       ]
      },
      {
       "output_type": "stream",
       "stream": "stdout",
       "text": [
        "\n",
        "    Generating MSM at lag time: 25\n"
       ]
      },
      {
       "output_type": "stream",
       "stream": "stdout",
       "text": [
        "\n",
        "    Generating MSM at lag time: 50\n"
       ]
      },
      {
       "output_type": "stream",
       "stream": "stdout",
       "text": [
        "\n",
        "    Generating MSM at lag time: 75\n"
       ]
      },
      {
       "output_type": "stream",
       "stream": "stdout",
       "text": [
        "\n",
        "    Generating MSM at lag time: 100\n"
       ]
      },
      {
       "output_type": "stream",
       "stream": "stdout",
       "text": [
        "\n",
        "    Generating MSM at lag time: 125\n"
       ]
      },
      {
       "output_type": "stream",
       "stream": "stdout",
       "text": [
        "\n",
        "    Generating MSM at lag time: 150\n"
       ]
      },
      {
       "output_type": "stream",
       "stream": "stdout",
       "text": [
        "\n",
        "    Generating MSM at lag time: 175\n"
       ]
      },
      {
       "output_type": "stream",
       "stream": "stdout",
       "text": [
        "\n",
        "    Generating MSM at lag time: 200\n"
       ]
      },
      {
       "metadata": {},
       "output_type": "display_data",
       "png": "[encoded data removed]",
       "text": [
        "<matplotlib.figure.Figure at 0x108f39b50>"
       ]
      }
     ],
     "prompt_number": 10
    },
    {
     "cell_type": "markdown",
     "metadata": {},
     "source": [
      "As you can see, all we are doing is to construct the MSM at different values of the lag time and then plotting the dependence of the relaxation times with the lag. The options we have introduced are `plot=True` and `N=5`, for plotting the 5 slowest eigenmodes after the calculation is done, and `sliding=True` for the sliding window method to be used in the estimation of transition count matrices (see documentation). In the plot the different colours correspond to different eigenvalues. In this case, the dependence of the relaxation times is pretty flat, suggesting the results are well converged even at low lag times. This suggests that the Markov assumption is acceptable. For simplicity we have not calculated errors but these should be included for properly identifying the right lag time to use."
     ]
    },
    {
     "cell_type": "markdown",
     "metadata": {},
     "source": [
      "The other usual convergence test for MSMs is an explicit comparison between the simulation data and the model predictions (this test is, in fact, usually called the Chapman-Kolmogorov test). In order to do this, one simulates the relaxation of population from a state or set of states and compares the decay of the population with the actual result from the transition count matrix. This test is also available in BestMSM."
     ]
    },
    {
     "cell_type": "code",
     "collapsed": false,
     "input": [
      "msm_ala5.chapman_kolmogorov(init=['11111', '11110', '01111', '11100'], sliding=True, plot=True)"
     ],
     "language": "python",
     "metadata": {},
     "outputs": [
      {
       "output_type": "stream",
       "stream": "stdout",
       "text": [
        "\n",
        " Chapman - Kolmogorov test:\n",
        "\n",
        "    Initial states ['11111', '11110', '01111', '11100']\n",
        "\n",
        "    Calculating relaxation from MSM\n"
       ]
      },
      {
       "output_type": "stream",
       "stream": "stdout",
       "text": [
        "\n",
        "    Calculating populations from MD\n"
       ]
      },
      {
       "metadata": {},
       "output_type": "display_data",
       "png": "[encoded data removed]",
       "text": [
        "<matplotlib.figure.Figure at 0x10e5b7c90>"
       ]
      }
     ],
     "prompt_number": 11
    },
    {
     "cell_type": "markdown",
     "metadata": {},
     "source": [
      "Here we are relaxing from a set of structured states, with at least three consecutive helical residues (`111`). What we see as circles is the result from the simulation data and as lines we show the results for a given range of lag times. It can be seen that all but maybe the shortest lag time (green line) agree well with the simulation data."
     ]
    },
    {
     "cell_type": "markdown",
     "metadata": {},
     "source": [
      "###Error estimation"
     ]
    },
    {
     "cell_type": "markdown",
     "metadata": {},
     "source": [
      "After carrying out this test, you usually choose a lag time for which the MSM seems well converged and then move ahead with the analysis. In our case we are going to use the MSM at a lag time of 5. The MSM at different lag times can be accessed from the MasterMSM instance very simply:"
     ]
    },
    {
     "cell_type": "code",
     "collapsed": false,
     "input": [
      "msm_ala5.msms[50]"
     ],
     "language": "python",
     "metadata": {},
     "outputs": [
      {
       "metadata": {},
       "output_type": "pyout",
       "prompt_number": 20,
       "text": [
        "<bestmsm.msm.MSM at 0x117b00a10>"
       ]
      }
     ],
     "prompt_number": 20
    },
    {
     "cell_type": "heading",
     "level": 2,
     "metadata": {},
     "source": [
      "One thing we can do very simply for this MSM is to calculate errors, which is done in our case using a bootstrapping method."
     ]
    },
    {
     "cell_type": "code",
     "collapsed": false,
     "input": [
      "tau_ave, tau_std, peq_ave, peq_std = msm_ala5.msms[5].boots()"
     ],
     "language": "python",
     "metadata": {},
     "outputs": [
      {
       "output_type": "stream",
       "stream": "stdout",
       "text": [
        "     Number of trajectories: 16\n",
        "     Median of trajectory length: 25000\n",
        "     ...doing bootstrap analysis\n",
        "     ...running on 4 processors\n"
       ]
      },
      {
       "output_type": "stream",
       "stream": "stdout",
       "text": [
        "# Process <Process(PoolWorker-43, started daemon)> running on input /var/folders/yg/f82gg6x97m1d737h6pl80_fr0000gn/T/tmpumZ86o\n",
        "# Process <Process(PoolWorker-45, started daemon)> running on input /var/folders/yg/f82gg6x97m1d737h6pl80_fr0000gn/T/tmpumZ86o\n",
        "# Process <Process(PoolWorker-46, started daemon)> running on input /var/folders/yg/f82gg6x97m1d737h6pl80_fr0000gn/T/tmpumZ86o\n",
        "# Process <Process(PoolWorker-44, started daemon)> running on input /var/folders/yg/f82gg6x97m1d737h6pl80_fr0000gn/T/tmpumZ86o\n",
        "# Process <Process(PoolWorker-43, started daemon)> running on input /var/folders/yg/f82gg6x97m1d737h6pl80_fr0000gn/T/tmpumZ86o# Process <Process(PoolWorker-45, started daemon)> running on input /var/folders/yg/f82gg6x97m1d737h6pl80_fr0000gn/T/tmpumZ86o# Process <Process(PoolWorker-46, started daemon)> running on input /var/folders/yg/f82gg6x97m1d737h6pl80_fr0000gn/T/tmpumZ86o# Process <Process(PoolWorker-44, started daemon)> running on input /var/folders/yg/f82gg6x97m1d737h6pl80_fr0000gn/T/tmpumZ86o\n",
        "\n",
        "\n",
        "\n",
        "# Process <Process(PoolWorker-43, started daemon)> running on input /var/folders/yg/f82gg6x97m1d737h6pl80_fr0000gn/T/tmpumZ86o# Process <Process(PoolWorker-45, started daemon)> running on input /var/folders/yg/f82gg6x97m1d737h6pl80_fr0000gn/T/tmpumZ86o# Process <Process(PoolWorker-46, started daemon)> running on input /var/folders/yg/f82gg6x97m1d737h6pl80_fr0000gn/T/tmpumZ86o# Process <Process(PoolWorker-44, started daemon)> running on input /var/folders/yg/f82gg6x97m1d737h6pl80_fr0000gn/T/tmpumZ86o\n",
        "\n",
        "\n",
        "\n",
        "# Process <Process(PoolWorker-43, started daemon)> running on input /var/folders/yg/f82gg6x97m1d737h6pl80_fr0000gn/T/tmpumZ86o# Process <Process(PoolWorker-45, started daemon)> running on input /var/folders/yg/f82gg6x97m1d737h6pl80_fr0000gn/T/tmpumZ86o# Process <Process(PoolWorker-46, started daemon)> running on input /var/folders/yg/f82gg6x97m1d737h6pl80_fr0000gn/T/tmpumZ86o# Process <Process(PoolWorker-44, started daemon)> running on input /var/folders/yg/f82gg6x97m1d737h6pl80_fr0000gn/T/tmpumZ86o\n",
        "\n",
        "\n",
        "\n",
        "# Process <Process(PoolWorker-43, started daemon)> running on input /var/folders/yg/f82gg6x97m1d737h6pl80_fr0000gn/T/tmpumZ86o# Process <Process(PoolWorker-45, started daemon)> running on input /var/folders/yg/f82gg6x97m1d737h6pl80_fr0000gn/T/tmpumZ86o# Process <Process(PoolWorker-46, started daemon)> running on input /var/folders/yg/f82gg6x97m1d737h6pl80_fr0000gn/T/tmpumZ86o# Process <Process(PoolWorker-44, started daemon)> running on input /var/folders/yg/f82gg6x97m1d737h6pl80_fr0000gn/T/tmpumZ86o\n",
        "\n",
        "\n",
        "\n",
        "# Process <Process(PoolWorker-43, started daemon)> running on input /var/folders/yg/f82gg6x97m1d737h6pl80_fr0000gn/T/tmpumZ86o# Process <Process(PoolWorker-45, started daemon)> running on input /var/folders/yg/f82gg6x97m1d737h6pl80_fr0000gn/T/tmpumZ86o# Process <Process(PoolWorker-46, started daemon)> running on input /var/folders/yg/f82gg6x97m1d737h6pl80_fr0000gn/T/tmpumZ86o# Process <Process(PoolWorker-44, started daemon)> running on input /var/folders/yg/f82gg6x97m1d737h6pl80_fr0000gn/T/tmpumZ86o\n",
        "\n",
        "\n",
        "\n",
        "# Process <Process(PoolWorker-43, started daemon)> running on input /var/folders/yg/f82gg6x97m1d737h6pl80_fr0000gn/T/tmpumZ86o# Process <Process(PoolWorker-45, started daemon)> running on input /var/folders/yg/f82gg6x97m1d737h6pl80_fr0000gn/T/tmpumZ86o# Process <Process(PoolWorker-46, started daemon)> running on input /var/folders/yg/f82gg6x97m1d737h6pl80_fr0000gn/T/tmpumZ86o# Process <Process(PoolWorker-44, started daemon)> running on input /var/folders/yg/f82gg6x97m1d737h6pl80_fr0000gn/T/tmpumZ86o\n",
        "\n",
        "\n",
        "\n",
        "# Process <Process(PoolWorker-43, started daemon)> running on input /var/folders/yg/f82gg6x97m1d737h6pl80_fr0000gn/T/tmpumZ86o# Process <Process(PoolWorker-45, started daemon)> running on input /var/folders/yg/f82gg6x97m1d737h6pl80_fr0000gn/T/tmpumZ86o# Process <Process(PoolWorker-46, started daemon)> running on input /var/folders/yg/f82gg6x97m1d737h6pl80_fr0000gn/T/tmpumZ86o# Process <Process(PoolWorker-44, started daemon)> running on input /var/folders/yg/f82gg6x97m1d737h6pl80_fr0000gn/T/tmpumZ86o\n",
        "\n",
        "\n",
        "\n",
        "# Process <Process(PoolWorker-43, started daemon)> running on input /var/folders/yg/f82gg6x97m1d737h6pl80_fr0000gn/T/tmpumZ86o# Process <Process(PoolWorker-45, started daemon)> running on input /var/folders/yg/f82gg6x97m1d737h6pl80_fr0000gn/T/tmpumZ86o# Process <Process(PoolWorker-46, started daemon)> running on input /var/folders/yg/f82gg6x97m1d737h6pl80_fr0000gn/T/tmpumZ86o# Process <Process(PoolWorker-44, started daemon)> running on input /var/folders/yg/f82gg6x97m1d737h6pl80_fr0000gn/T/tmpumZ86o\n",
        "\n",
        "\n",
        "\n",
        "# Process <Process(PoolWorker-43, started daemon)> running on input /var/folders/yg/f82gg6x97m1d737h6pl80_fr0000gn/T/tmpumZ86o# Process <Process(PoolWorker-45, started daemon)> running on input /var/folders/yg/f82gg6x97m1d737h6pl80_fr0000gn/T/tmpumZ86o# Process <Process(PoolWorker-46, started daemon)> running on input /var/folders/yg/f82gg6x97m1d737h6pl80_fr0000gn/T/tmpumZ86o# Process <Process(PoolWorker-44, started daemon)> running on input /var/folders/yg/f82gg6x97m1d737h6pl80_fr0000gn/T/tmpumZ86o\n",
        "\n",
        "\n",
        "\n",
        "# Process <Process(PoolWorker-43, started daemon)> running on input /var/folders/yg/f82gg6x97m1d737h6pl80_fr0000gn/T/tmpumZ86o# Process <Process(PoolWorker-45, started daemon)> running on input /var/folders/yg/f82gg6x97m1d737h6pl80_fr0000gn/T/tmpumZ86o# Process <Process(PoolWorker-46, started daemon)> running on input /var/folders/yg/f82gg6x97m1d737h6pl80_fr0000gn/T/tmpumZ86o# Process <Process(PoolWorker-44, started daemon)> running on input /var/folders/yg/f82gg6x97m1d737h6pl80_fr0000gn/T/tmpumZ86o\n",
        "\n",
        "\n",
        "\n",
        "# Process <Process(PoolWorker-43, started daemon)> running on input /var/folders/yg/f82gg6x97m1d737h6pl80_fr0000gn/T/tmpumZ86o# Process <Process(PoolWorker-45, started daemon)> running on input /var/folders/yg/f82gg6x97m1d737h6pl80_fr0000gn/T/tmpumZ86o# Process <Process(PoolWorker-46, started daemon)> running on input /var/folders/yg/f82gg6x97m1d737h6pl80_fr0000gn/T/tmpumZ86o# Process <Process(PoolWorker-44, started daemon)> running on input /var/folders/yg/f82gg6x97m1d737h6pl80_fr0000gn/T/tmpumZ86o\n",
        "\n",
        "\n",
        "\n",
        "# Process <Process(PoolWorker-43, started daemon)> running on input /var/folders/yg/f82gg6x97m1d737h6pl80_fr0000gn/T/tmpumZ86o# Process <Process(PoolWorker-45, started daemon)> running on input /var/folders/yg/f82gg6x97m1d737h6pl80_fr0000gn/T/tmpumZ86o# Process <Process(PoolWorker-46, started daemon)> running on input /var/folders/yg/f82gg6x97m1d737h6pl80_fr0000gn/T/tmpumZ86o# Process <Process(PoolWorker-44, started daemon)> running on input /var/folders/yg/f82gg6x97m1d737h6pl80_fr0000gn/T/tmpumZ86o\n",
        "\n",
        "\n",
        "\n",
        "# Process <Process(PoolWorker-43, started daemon)> running on input /var/folders/yg/f82gg6x97m1d737h6pl80_fr0000gn/T/tmpumZ86o# Process <Process(PoolWorker-45, started daemon)> running on input /var/folders/yg/f82gg6x97m1d737h6pl80_fr0000gn/T/tmpumZ86o# Process <Process(PoolWorker-46, started daemon)> running on input /var/folders/yg/f82gg6x97m1d737h6pl80_fr0000gn/T/tmpumZ86o# Process <Process(PoolWorker-44, started daemon)> running on input /var/folders/yg/f82gg6x97m1d737h6pl80_fr0000gn/T/tmpumZ86o\n",
        "\n",
        "\n",
        "\n",
        "# Process <Process(PoolWorker-43, started daemon)> running on input /var/folders/yg/f82gg6x97m1d737h6pl80_fr0000gn/T/tmpumZ86o# Process <Process(PoolWorker-45, started daemon)> running on input /var/folders/yg/f82gg6x97m1d737h6pl80_fr0000gn/T/tmpumZ86o# Process <Process(PoolWorker-46, started daemon)> running on input /var/folders/yg/f82gg6x97m1d737h6pl80_fr0000gn/T/tmpumZ86o# Process <Process(PoolWorker-44, started daemon)> running on input /var/folders/yg/f82gg6x97m1d737h6pl80_fr0000gn/T/tmpumZ86o\n",
        "\n",
        "\n",
        "\n",
        "# Process <Process(PoolWorker-43, started daemon)> running on input /var/folders/yg/f82gg6x97m1d737h6pl80_fr0000gn/T/tmpumZ86o# Process <Process(PoolWorker-45, started daemon)> running on input /var/folders/yg/f82gg6x97m1d737h6pl80_fr0000gn/T/tmpumZ86o# Process <Process(PoolWorker-46, started daemon)> running on input /var/folders/yg/f82gg6x97m1d737h6pl80_fr0000gn/T/tmpumZ86o# Process <Process(PoolWorker-44, started daemon)> running on input /var/folders/yg/f82gg6x97m1d737h6pl80_fr0000gn/T/tmpumZ86o\n",
        "\n",
        "\n",
        "\n",
        "# Process <Process(PoolWorker-43, started daemon)> running on input /var/folders/yg/f82gg6x97m1d737h6pl80_fr0000gn/T/tmpumZ86o# Process <Process(PoolWorker-45, started daemon)> running on input /var/folders/yg/f82gg6x97m1d737h6pl80_fr0000gn/T/tmpumZ86o# Process <Process(PoolWorker-46, started daemon)> running on input /var/folders/yg/f82gg6x97m1d737h6pl80_fr0000gn/T/tmpumZ86o# Process <Process(PoolWorker-44, started daemon)> running on input /var/folders/yg/f82gg6x97m1d737h6pl80_fr0000gn/T/tmpumZ86o\n",
        "\n",
        "\n",
        "\n",
        "# Process <Process(PoolWorker-43, started daemon)> running on input /var/folders/yg/f82gg6x97m1d737h6pl80_fr0000gn/T/tmpumZ86o# Process <Process(PoolWorker-45, started daemon)> running on input /var/folders/yg/f82gg6x97m1d737h6pl80_fr0000gn/T/tmpumZ86o# Process <Process(PoolWorker-46, started daemon)> running on input /var/folders/yg/f82gg6x97m1d737h6pl80_fr0000gn/T/tmpumZ86o# Process <Process(PoolWorker-44, started daemon)> running on input /var/folders/yg/f82gg6x97m1d737h6pl80_fr0000gn/T/tmpumZ86o\n",
        "\n",
        "\n",
        "\n",
        "# Process <Process(PoolWorker-43, started daemon)> running on input /var/folders/yg/f82gg6x97m1d737h6pl80_fr0000gn/T/tmpumZ86o# Process <Process(PoolWorker-45, started daemon)> running on input /var/folders/yg/f82gg6x97m1d737h6pl80_fr0000gn/T/tmpumZ86o# Process <Process(PoolWorker-46, started daemon)> running on input /var/folders/yg/f82gg6x97m1d737h6pl80_fr0000gn/T/tmpumZ86o# Process <Process(PoolWorker-44, started daemon)> running on input /var/folders/yg/f82gg6x97m1d737h6pl80_fr0000gn/T/tmpumZ86o\n",
        "\n",
        "\n",
        "\n",
        "# Process <Process(PoolWorker-43, started daemon)> running on input /var/folders/yg/f82gg6x97m1d737h6pl80_fr0000gn/T/tmpumZ86o# Process <Process(PoolWorker-45, started daemon)> running on input /var/folders/yg/f82gg6x97m1d737h6pl80_fr0000gn/T/tmpumZ86o# Process <Process(PoolWorker-46, started daemon)> running on input /var/folders/yg/f82gg6x97m1d737h6pl80_fr0000gn/T/tmpumZ86o# Process <Process(PoolWorker-44, started daemon)> running on input /var/folders/yg/f82gg6x97m1d737h6pl80_fr0000gn/T/tmpumZ86o\n",
        "\n",
        "\n",
        "\n",
        "# Process <Process(PoolWorker-43, started daemon)> running on input /var/folders/yg/f82gg6x97m1d737h6pl80_fr0000gn/T/tmpumZ86o# Process <Process(PoolWorker-45, started daemon)> running on input /var/folders/yg/f82gg6x97m1d737h6pl80_fr0000gn/T/tmpumZ86o# Process <Process(PoolWorker-46, started daemon)> running on input /var/folders/yg/f82gg6x97m1d737h6pl80_fr0000gn/T/tmpumZ86o# Process <Process(PoolWorker-44, started daemon)> running on input /var/folders/yg/f82gg6x97m1d737h6pl80_fr0000gn/T/tmpumZ86o\n",
        "\n",
        "\n",
        "\n",
        "# Process <Process(PoolWorker-45, started daemon)> running on input /var/folders/yg/f82gg6x97m1d737h6pl80_fr0000gn/T/tmpumZ86o# Process <Process(PoolWorker-46, started daemon)> running on input /var/folders/yg/f82gg6x97m1d737h6pl80_fr0000gn/T/tmpumZ86o# Process <Process(PoolWorker-44, started daemon)> running on input /var/folders/yg/f82gg6x97m1d737h6pl80_fr0000gn/T/tmpumZ86o\n",
        "\n",
        "\n",
        "# Process <Process(PoolWorker-44, started daemon)> running on input /var/folders/yg/f82gg6x97m1d737h6pl80_fr0000gn/T/tmpumZ86o# Process <Process(PoolWorker-45, started daemon)> running on input /var/folders/yg/f82gg6x97m1d737h6pl80_fr0000gn/T/tmpumZ86o# Process <Process(PoolWorker-46, started daemon)> running on input /var/folders/yg/f82gg6x97m1d737h6pl80_fr0000gn/T/tmpumZ86o\n",
        "\n",
        "\n",
        "# Process <Process(PoolWorker-45, started daemon)> running on input /var/folders/yg/f82gg6x97m1d737h6pl80_fr0000gn/T/tmpumZ86o# Process <Process(PoolWorker-46, started daemon)> running on input /var/folders/yg/f82gg6x97m1d737h6pl80_fr0000gn/T/tmpumZ86o\n",
        "\n",
        "# Process <Process(PoolWorker-46, started daemon)> running on input /var/folders/yg/f82gg6x97m1d737h6pl80_fr0000gn/T/tmpumZ86o# Process <Process(PoolWorker-45, started daemon)> running on input /var/folders/yg/f82gg6x97m1d737h6pl80_fr0000gn/T/tmpumZ86o\n",
        "\n",
        "# Process <Process(PoolWorker-46, started daemon)> running on input /var/folders/yg/f82gg6x97m1d737h6pl80_fr0000gn/T/tmpumZ86o# Process <Process(PoolWorker-45, started daemon)> running on input /var/folders/yg/f82gg6x97m1d737h6pl80_fr0000gn/T/tmpumZ86o\n",
        "\n",
        "# Process <Process(PoolWorker-46, started daemon)> running on input /var/folders/yg/f82gg6x97m1d737h6pl80_fr0000gn/T/tmpumZ86o# Process <Process(PoolWorker-45, started daemon)> running on input /var/folders/yg/f82gg6x97m1d737h6pl80_fr0000gn/T/tmpumZ86o\n",
        "\n",
        "# Process <Process(PoolWorker-46, started daemon)> running on input /var/folders/yg/f82gg6x97m1d737h6pl80_fr0000gn/T/tmpumZ86o# Process <Process(PoolWorker-45, started daemon)> running on input /var/folders/yg/f82gg6x97m1d737h6pl80_fr0000gn/T/tmpumZ86o\n",
        "\n"
       ]
      }
     ],
     "prompt_number": 16
    },
    {
     "cell_type": "markdown",
     "metadata": {},
     "source": [
      "Depending on the number of available processors, this may take some time. The number of bootstrap samples can be defined by the user, as well as whether results are being plotted.  "
     ]
    },
    {
     "cell_type": "markdown",
     "metadata": {},
     "source": [
      "###Propagation of the dynamics\n",
      "One thing I find particularly cool from MSMs is the possibility of simulating the relaxation of the system from an initial condition to the equilibrium distribution. This is akin to what experimentalists do in temperature jump experiments. In BestMSM this type of relaxation is implemented in the `propagateK` method, which we have actually used already in the Chapman-Kolmogorov tests. It works like this:"
     ]
    },
    {
     "cell_type": "code",
     "collapsed": false,
     "input": [
      "popul = msm_ala5.msms[10].propagateK"
     ],
     "language": "python",
     "metadata": {},
     "outputs": []
    },
    {
     "cell_type": "markdown",
     "metadata": {},
     "source": [
      "###Committors and fluxes"
     ]
    },
    {
     "cell_type": "markdown",
     "metadata": {},
     "source": [
      "Another usual result we are interested in is the values of the pfold or committor, or the folding rates from one set of microstates (UU) to another set of microstates (FF). In order to do this calculation we use the Berezhkovskii-Hummer-Szabo method ([J Chem Phys, 2009](http://scitation.aip.org/content/aip/journal/jcp/130/20/10.1063/1.3139063)). In BestMSM, we do the calculation as:"
     ]
    },
    {
     "cell_type": "code",
     "collapsed": false,
     "input": [
      "print msm_ala5.msms[10].do_trans()\n",
      "print msm_ala5.msms[10].do_rate()\n",
      "J, pfold, kf = msm_ala5.msms[10].do_pfold(FF=['11111'], UU=['00000'])"
     ],
     "language": "python",
     "metadata": {},
     "outputs": [
      {
       "output_type": "stream",
       "stream": "stdout",
       "text": [
        "None\n",
        "None\n",
        "   definitely FF and UU states [0, 31]\n",
        "   reactive flux: 7.00503e-05\n"
       ]
      },
      {
       "ename": "ValueError",
       "evalue": "too many values to unpack",
       "output_type": "pyerr",
       "traceback": [
        "\u001b[0;31m---------------------------------------------------------------------------\u001b[0m\n\u001b[0;31mValueError\u001b[0m                                Traceback (most recent call last)",
        "\u001b[0;32m<ipython-input-22-a442f4c652e9>\u001b[0m in \u001b[0;36m<module>\u001b[0;34m()\u001b[0m\n\u001b[1;32m      1\u001b[0m \u001b[0;32mprint\u001b[0m \u001b[0mmsm_ala5\u001b[0m\u001b[0;34m.\u001b[0m\u001b[0mmsms\u001b[0m\u001b[0;34m[\u001b[0m\u001b[0;36m10\u001b[0m\u001b[0;34m]\u001b[0m\u001b[0;34m.\u001b[0m\u001b[0mdo_trans\u001b[0m\u001b[0;34m(\u001b[0m\u001b[0;34m)\u001b[0m\u001b[0;34m\u001b[0m\u001b[0m\n\u001b[1;32m      2\u001b[0m \u001b[0;32mprint\u001b[0m \u001b[0mmsm_ala5\u001b[0m\u001b[0;34m.\u001b[0m\u001b[0mmsms\u001b[0m\u001b[0;34m[\u001b[0m\u001b[0;36m10\u001b[0m\u001b[0;34m]\u001b[0m\u001b[0;34m.\u001b[0m\u001b[0mdo_rate\u001b[0m\u001b[0;34m(\u001b[0m\u001b[0;34m)\u001b[0m\u001b[0;34m\u001b[0m\u001b[0m\n\u001b[0;32m----> 3\u001b[0;31m \u001b[0mJ\u001b[0m\u001b[0;34m,\u001b[0m \u001b[0mpfold\u001b[0m\u001b[0;34m,\u001b[0m \u001b[0mkf\u001b[0m \u001b[0;34m=\u001b[0m \u001b[0mmsm_ala5\u001b[0m\u001b[0;34m.\u001b[0m\u001b[0mmsms\u001b[0m\u001b[0;34m[\u001b[0m\u001b[0;36m10\u001b[0m\u001b[0;34m]\u001b[0m\u001b[0;34m.\u001b[0m\u001b[0mdo_pfold\u001b[0m\u001b[0;34m(\u001b[0m\u001b[0mFF\u001b[0m\u001b[0;34m=\u001b[0m\u001b[0;34m[\u001b[0m\u001b[0;34m'11111'\u001b[0m\u001b[0;34m]\u001b[0m\u001b[0;34m,\u001b[0m \u001b[0mUU\u001b[0m\u001b[0;34m=\u001b[0m\u001b[0;34m[\u001b[0m\u001b[0;34m'00000'\u001b[0m\u001b[0;34m]\u001b[0m\u001b[0;34m)\u001b[0m\u001b[0;34m\u001b[0m\u001b[0m\n\u001b[0m",
        "\u001b[0;31mValueError\u001b[0m: too many values to unpack"
       ]
      }
     ],
     "prompt_number": 22
    },
    {
     "cell_type": "markdown",
     "metadata": {},
     "source": [
      "###PCCA clustering"
     ]
    },
    {
     "cell_type": "markdown",
     "metadata": {},
     "source": [
      "The time-scale separation between modes can be exploited to generate more intuitive models where each individual state is formed by a cluster of microstates. To perform this clustering we import another module."
     ]
    },
    {
     "cell_type": "code",
     "collapsed": false,
     "input": [
      "import bestmsm.pcca import PCCA"
     ],
     "language": "python",
     "metadata": {},
     "outputs": [
      {
       "ename": "SyntaxError",
       "evalue": "invalid syntax (<ipython-input-22-109d845beada>, line 1)",
       "output_type": "pyerr",
       "traceback": [
        "\u001b[0;36m  File \u001b[0;32m\"<ipython-input-22-109d845beada>\"\u001b[0;36m, line \u001b[0;32m1\u001b[0m\n\u001b[0;31m    import bestmsm.pcca import PCCA\u001b[0m\n\u001b[0m                             ^\u001b[0m\n\u001b[0;31mSyntaxError\u001b[0m\u001b[0;31m:\u001b[0m invalid syntax\n"
       ]
      }
     ],
     "prompt_number": 22
    },
    {
     "cell_type": "code",
     "collapsed": false,
     "input": [],
     "language": "python",
     "metadata": {},
     "outputs": []
    }
   ],
   "metadata": {}
  }
 ]
}