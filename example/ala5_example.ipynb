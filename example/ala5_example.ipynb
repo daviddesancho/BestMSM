{
 "metadata": {
  "celltoolbar": "Raw Cell Format",
  "name": "",
  "signature": "sha256:fe55e9e79d10930cc2f1c107f8a92c451441d2c62315aad42f1ef93ea6fe5b8f"
 },
 "nbformat": 3,
 "nbformat_minor": 0,
 "worksheets": [
  {
   "cells": [
    {
     "cell_type": "heading",
     "level": 1,
     "metadata": {},
     "source": [
      "A simple working example of the BestMSM package"
     ]
    },
    {
     "cell_type": "markdown",
     "metadata": {},
     "source": [
      "The following provides a minimal example to how the BestMSM package works. We construct an MSM using data from explicit water atomistic simulations of the ala5 peptide, the small molecule that you can see below.\n",
      "<img src=\"files/ala5_nowater.png\" width=\"200\">."
     ]
    },
    {
     "cell_type": "heading",
     "level": 3,
     "metadata": {},
     "source": [
      "Loading the trajectory data"
     ]
    },
    {
     "cell_type": "markdown",
     "metadata": {},
     "source": [
      "The first thing that you must do is to import the trajectory module from the BestMSM package."
     ]
    },
    {
     "cell_type": "code",
     "collapsed": false,
     "input": [
      "import bestmsm.trajectory as traj"
     ],
     "language": "python",
     "metadata": {},
     "outputs": [],
     "prompt_number": 1
    },
    {
     "cell_type": "markdown",
     "metadata": {},
     "source": [
      "The only required input is the name of the file with strings corresponding to time-stamps and state names (or indexes or whatever you want; they'll be handled as strings). In the current example states look like the following:"
     ]
    },
    {
     "cell_type": "markdown",
     "metadata": {},
     "source": [
      "```1 11111\n",
      "2 11111\n",
      "3 11111\n",
      "4 11111\n",
      "5 11111\n",
      "6 11111\n",
      "7 11111\n",
      "8 11110\n",
      "9 11100\n",
      "...\n",
      "```"
     ]
    },
    {
     "cell_type": "markdown",
     "metadata": {},
     "source": [
      "These strings are just helix-coil states for the ala5 pentapeptide. Ones (\"1\") indicate that a residue is in the helical configuration of the Ramachandran map, while zeros (\"0\") correspond to the coil region (most of what we see here are fully helical states)."
     ]
    },
    {
     "cell_type": "markdown",
     "metadata": {},
     "source": [
      "Then we generate an instance of the TimeSeries class"
     ]
    },
    {
     "cell_type": "code",
     "collapsed": false,
     "input": [
      "traj_ala5 = traj.TimeSeries(\"files/ala5_32states_timeseries.dat\")"
     ],
     "language": "python",
     "metadata": {},
     "outputs": [],
     "prompt_number": 2
    },
    {
     "cell_type": "markdown",
     "metadata": {},
     "source": [
      "The TimeSeries class has a number of atributes, which we can explore. These attributes are the time stamps of the snapshots of the trajectory ('`time`'), the corresponding the states ('`states`'), and the names of the states ('`keys`'), the lag between snapshots ('`dt`') and the filename ('`filename`'). For example, in this case, the lag between snapshots is 1 unit of time (in this case, picoseconds)."
     ]
    },
    {
     "cell_type": "code",
     "collapsed": false,
     "input": [
      "traj_ala5.dt"
     ],
     "language": "python",
     "metadata": {},
     "outputs": [
      {
       "metadata": {},
       "output_type": "pyout",
       "prompt_number": 3,
       "text": [
        "1.0"
       ]
      }
     ],
     "prompt_number": 3
    },
    {
     "cell_type": "heading",
     "level": 3,
     "metadata": {},
     "source": [
      "Generating an MSM"
     ]
    },
    {
     "cell_type": "markdown",
     "metadata": {},
     "source": [
      "Having read one or multiple trajectories we now invoke the MasterMSM class."
     ]
    },
    {
     "cell_type": "code",
     "collapsed": false,
     "input": [
      "%pylab inline \n",
      "import bestmsm.msm as msm\n",
      "msm_ala5 = msm.MasterMSM([traj_ala5])"
     ],
     "language": "python",
     "metadata": {},
     "outputs": [
      {
       "output_type": "stream",
       "stream": "stdout",
       "text": [
        "Populating the interactive namespace from numpy and matplotlib\n",
        "\n",
        " Building MSM from \n"
       ]
      },
      {
       "output_type": "stream",
       "stream": "stdout",
       "text": [
        "['files/ala5_32states_timeseries.dat']\n",
        "     # states: 32\n"
       ]
      }
     ],
     "prompt_number": 4
    },
    {
     "cell_type": "markdown",
     "metadata": {},
     "source": [
      "The instance of the `MasterMSM class` starts off only with the trajectories (or instances of the `trajectory` class) we created above."
     ]
    },
    {
     "cell_type": "code",
     "collapsed": false,
     "input": [
      "print msm_ala5.keys"
     ],
     "language": "python",
     "metadata": {},
     "outputs": [
      {
       "output_type": "stream",
       "stream": "stdout",
       "text": [
        "['11111', '11110', '01111', '01110', '01101', '01100', '01000', '01001', '11000', '00000', '11001', '01011', '01010', '00010', '00110', '10110', '10111', '10100', '10101', '10001', '10000', '10010', '00111', '11101', '00101', '00100', '00011', '10011', '11011', '11100', '00001', '11010']\n"
       ]
      }
     ],
     "prompt_number": 5
    },
    {
     "cell_type": "markdown",
     "metadata": {},
     "source": [
      "For multiple files, MasterMSM will merge the keys from the different trajectories and make a common set. Alternatively, one can provide the list of states to be considered. This option may be useful in different situations. For example, we may want states to be ordered in a predefined way, or we may want to entirely disregard states that we know are very rarely populated. In this case, the instance of the MasterMSM class would be generated in the following way."
     ]
    },
    {
     "cell_type": "code",
     "collapsed": false,
     "input": [
      "msm_ala5 = msm.MasterMSM([traj_ala5], filekeys=\"files/states\")"
     ],
     "language": "python",
     "metadata": {},
     "outputs": [
      {
       "output_type": "stream",
       "stream": "stdout",
       "text": [
        "\n",
        " Building MSM from \n",
        "['files/ala5_32states_timeseries.dat']\n",
        "     # states: 32\n"
       ]
      }
     ],
     "prompt_number": 6
    },
    {
     "cell_type": "markdown",
     "metadata": {},
     "source": [
      "This way we have given a list of 32 states which are sorted by the number of helical residues. You can check that the states are ordered so that the first few are mostly coil and the last few are fully helical. This may turn out to be more convenient in this case."
     ]
    },
    {
     "cell_type": "code",
     "collapsed": false,
     "input": [
      "print msm_ala5.keys "
     ],
     "language": "python",
     "metadata": {},
     "outputs": [
      {
       "output_type": "stream",
       "stream": "stdout",
       "text": [
        "['00000', '00001', '00010', '10000', '00100', '01000', '10001', '00110', '01001', '00011', '10010', '10100', '00101', '11000', '01010', '01100', '10011', '01011', '01101', '10101', '10110', '11001', '01110', '00111', '11010', '11100', '01111', '10111', '11110', '11011', '11101', '11111']\n"
       ]
      }
     ],
     "prompt_number": 7
    },
    {
     "cell_type": "markdown",
     "metadata": {},
     "source": [
      "Now that you have generated your MSM, you can start computing interesting things. You probably want to generate a count matrix, a transition matrix and a rate matrix, and possibly derive relaxation times and equilibrium probabilities from them. In order to do this, we generate an instance of the `MSM` class. The way things are organized in BestMSM, you may never have to deal with the MSM class directly. Everything can be orchestrated from `MasterMSM`."
     ]
    },
    {
     "cell_type": "markdown",
     "metadata": {},
     "source": [
      "So what we do is to generate the MSM for a given lag time using the data loaded before. Here we naively choose 5 picoseconds"
     ]
    },
    {
     "cell_type": "code",
     "collapsed": false,
     "input": [
      "msm_ala5.do_msm(5)"
     ],
     "language": "python",
     "metadata": {},
     "outputs": [
      {
       "output_type": "stream",
       "stream": "stdout",
       "text": [
        "['00000', '00001', '00010', '10000', '00100', '01000', '10001', '00110', '01001', '00011', '10010', '10100', '00101', '11000', '01010', '01100', '10011', '01011', '01101', '10101', '10110', '11001', '01110', '00111', '11010', '11100', '01111', '10111', '11110', '11011', '11101', '11111']\n",
        "\n",
        " Calculating transition count matrix...\n",
        "\n",
        "   sliding window option:  True\n",
        "\n",
        "    ...running on 1 processors\n"
       ]
      },
      {
       "output_type": "stream",
       "stream": "stdout",
       "text": [
        "\n",
        "    ...checking connectivity:\n",
        "[[23606   540    65 ...,     0     0     0]\n",
        " [  552 11789     0 ...,     0     0     0]\n",
        " [   82     4  7137 ...,     0     0     0]\n",
        " ..., \n",
        " [    0     0     0 ...,  4898     0    17]\n",
        " [    0     0     0 ...,     0  8266    73]\n",
        " [    0     0     0 ...,    28    89 80560]]\n",
        "          32 states in largest subgraph\n",
        "\n",
        " Calculating transition matrix ...\n",
        "\n",
        " Calculating eigenvalues and eigenvectors of T\n"
       ]
      }
     ],
     "prompt_number": 8
    },
    {
     "cell_type": "markdown",
     "metadata": {},
     "source": [
      "As you can see, some stuff has happened when invoking the `do_msm` method. First, a transition count matrix has been computed, and then the connectivity of that matrix has been checked. Finally, the transition matrix and its eigenvalues and eigenvectors have been produced."
     ]
    },
    {
     "cell_type": "markdown",
     "metadata": {},
     "source": [
      "This gives some idea of the available functionalities. However, you may want to start finding out which lag time is a sensible choice for your system. In order to do that, you want to know the dependence of your model with respect to the lag time used to construct it."
     ]
    },
    {
     "cell_type": "heading",
     "level": 3,
     "metadata": {},
     "source": [
      "Chapman-Kolmogorov tests"
     ]
    },
    {
     "cell_type": "markdown",
     "metadata": {},
     "source": [
      "In order to identify the right lag time, we usually look at the convergence of certain properties as a function of the lag time. One of the first tests is the dependence of the relaxation times with the lag time used to compute the transition count matrix. This test is readily available in the MasterMSM class."
     ]
    },
    {
     "cell_type": "code",
     "collapsed": false,
     "input": [
      "msm_ala5.chapman_kolmogorov(plot=True, N=5, sliding=True)"
     ],
     "language": "python",
     "metadata": {},
     "outputs": [
      {
       "output_type": "stream",
       "stream": "stdout",
       "text": [
        "\n",
        " Generating MSM at lag time: 1\n",
        "['00000', '00001', '00010', '10000', '00100', '01000', '10001', '00110', '01001', '00011', '10010', '10100', '00101', '11000', '01010', '01100', '10011', '01011', '01101', '10101', '10110', '11001', '01110', '00111', '11010', '11100', '01111', '10111', '11110', '11011', '11101', '11111']\n",
        "\n",
        " Calculating transition count matrix...\n",
        "\n",
        "   sliding window option:  True\n",
        "\n",
        "    ...running on 1 processors\n"
       ]
      },
      {
       "output_type": "stream",
       "stream": "stdout",
       "text": [
        "\n",
        "    ...checking connectivity:\n",
        "[[24348   111    13 ...,     0     0     0]\n",
        " [  114 12405     0 ...,     0     0     0]\n",
        " [   18     0  7393 ...,     0     0     0]\n",
        " ..., \n",
        " [    0     0     0 ...,  5121     0     4]\n",
        " [    0     0     0 ...,     0  8736    16]\n",
        " [    0     0     0 ...,     6    18 82010]]\n",
        "          32 states in largest subgraph\n",
        "\n",
        " Calculating transition matrix ...\n",
        "\n",
        " Calculating eigenvalues and eigenvectors of T\n",
        "\n",
        "    Count matrix:\n",
        "[[24348   111    13 ...,     0     0     0]\n",
        " [  114 12405     0 ...,     0     0     0]\n",
        " [   18     0  7393 ...,     0     0     0]\n",
        " ..., \n",
        " [    0     0     0 ...,  5121     0     4]\n",
        " [    0     0     0 ...,     0  8736    16]\n",
        " [    0     0     0 ...,     6    18 82010]]\n",
        "\n",
        "    Transition matrix:\n",
        "[[  9.92216472e-01   8.83546924e-03   1.74286097e-03 ...,   0.00000000e+00\n",
        "    0.00000000e+00   0.00000000e+00]\n",
        " [  4.64566608e-03   9.87423386e-01   0.00000000e+00 ...,   0.00000000e+00\n",
        "    0.00000000e+00   0.00000000e+00]\n",
        " [  7.33526224e-04   0.00000000e+00   9.91151629e-01 ...,   0.00000000e+00\n",
        "    0.00000000e+00   0.00000000e+00]\n",
        " ..., \n",
        " [  0.00000000e+00   0.00000000e+00   0.00000000e+00 ...,   9.88800927e-01\n",
        "    0.00000000e+00   4.85548852e-05]\n",
        " [  0.00000000e+00   0.00000000e+00   0.00000000e+00 ...,   0.00000000e+00\n",
        "    9.86449864e-01   1.94219541e-04]\n",
        " [  0.00000000e+00   0.00000000e+00   0.00000000e+00 ...,   1.15852481e-03\n",
        "    2.03252033e-03   9.95496534e-01]]\n",
        "\n",
        " Doing bootstrap tests:\n",
        "     Total time: 400001\n",
        "     Number of trajectories: 1\n",
        "     Total number of transitions: 400000\n",
        "     Number of resamples: 48\n",
        "     ...splitting trajectories\n",
        "     Number of trajectories: 16"
       ]
      },
      {
       "output_type": "stream",
       "stream": "stdout",
       "text": [
        "\n",
        "     Median of trajectory length: 25000\n",
        "     ...doing bootstrap analysis\n",
        "     ...running on 4 processors\n"
       ]
      },
      {
       "output_type": "stream",
       "stream": "stdout",
       "text": [
        "\n",
        " Generating MSM at lag time: 5\n",
        "['00000', '00001', '00010', '10000', '00100', '01000', '10001', '00110', '01001', '00011', '10010', '10100', '00101', '11000', '01010', '01100', '10011', '01011', '01101', '10101', '10110', '11001', '01110', '00111', '11010', '11100', '01111', '10111', '11110', '11011', '11101', '11111']\n",
        "\n",
        " Calculating transition count matrix...\n",
        "\n",
        "   sliding window option:  True\n",
        "\n",
        "    ...running on 1 processors\n"
       ]
      },
      {
       "output_type": "stream",
       "stream": "stdout",
       "text": [
        "\n",
        "    ...checking connectivity:\n",
        "[[23606   540    65 ...,     0     0     0]\n",
        " [  552 11789     0 ...,     0     0     0]\n",
        " [   82     4  7137 ...,     0     0     0]\n",
        " ..., \n",
        " [    0     0     0 ...,  4898     0    17]\n",
        " [    0     0     0 ...,     0  8266    73]\n",
        " [    0     0     0 ...,    28    89 80560]]\n",
        "          32 states in largest subgraph\n",
        "\n",
        " Calculating transition matrix ...\n",
        "\n",
        " Calculating eigenvalues and eigenvectors of T\n",
        "\n",
        "    Count matrix:\n",
        "[[23606   540    65 ...,     0     0     0]\n",
        " [  552 11789     0 ...,     0     0     0]\n",
        " [   82     4  7137 ...,     0     0     0]\n",
        " ..., \n",
        " [    0     0     0 ...,  4898     0    17]\n",
        " [    0     0     0 ...,     0  8266    73]\n",
        " [    0     0     0 ...,    28    89 80560]]\n",
        "\n",
        "    Transition matrix:\n",
        "[[  9.61978891e-01   4.29833638e-02   8.71430487e-03 ...,   0.00000000e+00\n",
        "    0.00000000e+00   0.00000000e+00]\n",
        " [  2.24948042e-02   9.38390512e-01   0.00000000e+00 ...,   0.00000000e+00\n",
        "    0.00000000e+00   0.00000000e+00]\n",
        " [  3.34161946e-03   3.18395288e-04   9.56830674e-01 ...,   0.00000000e+00\n",
        "    0.00000000e+00   0.00000000e+00]\n",
        " ..., \n",
        " [  0.00000000e+00   0.00000000e+00   0.00000000e+00 ...,   9.45742421e-01\n",
        "    0.00000000e+00   2.06358262e-04]\n",
        " [  0.00000000e+00   0.00000000e+00   0.00000000e+00 ...,   0.00000000e+00\n",
        "    9.33378500e-01   8.86126655e-04]\n",
        " [  0.00000000e+00   0.00000000e+00   0.00000000e+00 ...,   5.40644912e-03\n",
        "    1.00496838e-02   9.77895388e-01]]\n",
        "\n",
        " Doing bootstrap tests:\n",
        "     Total time: 400001\n",
        "     Number of trajectories: 1\n",
        "     Total number of transitions: 399996\n",
        "     Number of resamples: 48\n",
        "     ...splitting trajectories\n",
        "     Number of trajectories: 16"
       ]
      },
      {
       "output_type": "stream",
       "stream": "stdout",
       "text": [
        "\n",
        "     Median of trajectory length: 25000\n",
        "     ...doing bootstrap analysis\n",
        "     ...running on 4 processors\n"
       ]
      },
      {
       "output_type": "stream",
       "stream": "stdout",
       "text": [
        "\n",
        " Generating MSM at lag time: 10\n",
        "['00000', '00001', '00010', '10000', '00100', '01000', '10001', '00110', '01001', '00011', '10010', '10100', '00101', '11000', '01010', '01100', '10011', '01011', '01101', '10101', '10110', '11001', '01110', '00111', '11010', '11100', '01111', '10111', '11110', '11011', '11101', '11111']\n",
        "\n",
        " Calculating transition count matrix...\n",
        "\n",
        "   sliding window option:  True\n",
        "\n",
        "    ...running on 1 processors\n"
       ]
      },
      {
       "output_type": "stream",
       "stream": "stdout",
       "text": [
        "\n",
        "    ...checking connectivity:\n",
        "[[22717  1040   128 ...,     0     0     0]\n",
        " [ 1058 11082     2 ...,     0     0     0]\n",
        " [  158    13  6842 ...,     0     0     0]\n",
        " ..., \n",
        " [    0     0     0 ...,  4628     0    32]\n",
        " [    0     0     0 ...,     0  7731   143]\n",
        " [    0     0     0 ...,    53   171 78840]]\n",
        "          32 states in largest subgraph\n",
        "\n",
        " Calculating transition matrix ...\n",
        "\n",
        " Calculating eigenvalues and eigenvectors of T\n",
        "\n",
        "    Count matrix:\n",
        "[[22717  1040   128 ...,     0     0     0]\n",
        " [ 1058 11082     2 ...,     0     0     0]\n",
        " [  158    13  6842 ...,     0     0     0]\n",
        " ..., \n",
        " [    0     0     0 ...,  4628     0    32]\n",
        " [    0     0     0 ...,     0  7731   143]\n",
        " [    0     0     0 ...,    53   171 78840]]\n",
        "\n",
        "    Transition matrix:\n",
        "[[  9.25750846e-01   8.27827748e-02   1.71604773e-02 ...,   0.00000000e+00\n",
        "    0.00000000e+00   0.00000000e+00]\n",
        " [  4.31150414e-02   8.82114145e-01   2.68132457e-04 ...,   0.00000000e+00\n",
        "    0.00000000e+00   0.00000000e+00]\n",
        " [  6.43873018e-03   1.03478469e-03   9.17281137e-01 ...,   0.00000000e+00\n",
        "    0.00000000e+00   0.00000000e+00]\n",
        " ..., \n",
        " [  0.00000000e+00   0.00000000e+00   0.00000000e+00 ...,   8.93608805e-01\n",
        "    0.00000000e+00   3.88439082e-04]\n",
        " [  0.00000000e+00   0.00000000e+00   0.00000000e+00 ...,   0.00000000e+00\n",
        "    8.72967480e-01   1.73583715e-03]\n",
        " [  0.00000000e+00   0.00000000e+00   0.00000000e+00 ...,   1.02336358e-02\n",
        "    1.93089431e-02   9.57016788e-01]]\n",
        "\n",
        " Doing bootstrap tests:\n",
        "     Total time: 400001\n",
        "     Number of trajectories: 1\n",
        "     Total number of transitions: 399991\n",
        "     Number of resamples: 48\n",
        "     ...splitting trajectories\n",
        "     Number of trajectories: 16"
       ]
      },
      {
       "output_type": "stream",
       "stream": "stdout",
       "text": [
        "\n",
        "     Median of trajectory length: 25000\n",
        "     ...doing bootstrap analysis\n",
        "     ...running on 4 processors\n"
       ]
      }
     ]
    },
    {
     "cell_type": "markdown",
     "metadata": {},
     "source": [
      "As you can see, there is a considerable amount of output here. In fact all we are doing is to construct the MSM at different values of the lag time, calculating errors and then plotting the dependence of the relaation times with the lag. The options we have introduced are `plot=True` and `N=5`, for plotting the 5 slowest eigenmodes after the calculation is done, and `sliding=True` for the sliding window method to be used in the estimation of transition count matrices (see documentation). In the plot the different colours correspond to different eigenvalues. They seem pretty similar at growing lag times all cases, which suggests that the Markov assumption is acceptable."
     ]
    },
    {
     "cell_type": "heading",
     "level": 2,
     "metadata": {},
     "source": [
      "Working with one MSM"
     ]
    },
    {
     "cell_type": "markdown",
     "metadata": {},
     "source": [
      "After carrying out this test, you usually choose a lag time for which the MSM seems well converged and then move ahead with the analysis. In our case we are going to use the MSM at a lag time of 5. The MSM at different lag times can be accessed from the MasterMSM instance very simply:"
     ]
    },
    {
     "cell_type": "code",
     "collapsed": false,
     "input": [
      "msm_ala5.do_msm(5)\n"
     ],
     "language": "python",
     "metadata": {},
     "outputs": [
      {
       "output_type": "stream",
       "stream": "stdout",
       "text": [
        "\n",
        " Calculating transition count matrix...\n",
        "\n",
        "    ...running on 1 processors\n"
       ]
      },
      {
       "output_type": "stream",
       "stream": "stdout",
       "text": [
        "\n",
        "    ...checking connectivity:\n",
        "          32 states in largest subgraph\n",
        "\n",
        " Calculating transition matrix ...\n",
        "\n",
        " Calculating rate matrix ...\n",
        "[[  9.61978891e-01   4.29833638e-02   8.71430487e-03 ...,   0.00000000e+00\n",
        "    0.00000000e+00   0.00000000e+00]\n",
        " [  2.24948042e-02   9.38390512e-01   0.00000000e+00 ...,   0.00000000e+00\n",
        "    0.00000000e+00   0.00000000e+00]\n",
        " [  3.34161946e-03   3.18395288e-04   9.56830674e-01 ...,   0.00000000e+00\n",
        "    0.00000000e+00   0.00000000e+00]\n",
        " ..., \n",
        " [  0.00000000e+00   0.00000000e+00   0.00000000e+00 ...,   9.45742421e-01\n",
        "    0.00000000e+00   2.06358262e-04]\n",
        " [  0.00000000e+00   0.00000000e+00   0.00000000e+00 ...,   0.00000000e+00\n",
        "    9.33378500e-01   8.86126655e-04]\n",
        " [  0.00000000e+00   0.00000000e+00   0.00000000e+00 ...,   5.40644912e-03\n",
        "    1.00496838e-02   9.77895388e-01]]\n",
        "[[ -7.60422185e-03   8.59667277e-03   1.74286097e-03 ...,   0.00000000e+00\n",
        "    0.00000000e+00   0.00000000e+00]\n",
        " [  4.49896084e-03  -1.23218976e-02   0.00000000e+00 ...,   0.00000000e+00\n",
        "    0.00000000e+00   0.00000000e+00]\n",
        " [  6.68323893e-04   6.36790575e-05  -8.63386513e-03 ...,   0.00000000e+00\n",
        "    0.00000000e+00   0.00000000e+00]\n",
        " ..., \n",
        " [  0.00000000e+00   0.00000000e+00   0.00000000e+00 ...,  -1.08515157e-02\n",
        "    0.00000000e+00   4.12716524e-05]\n",
        " [  0.00000000e+00   0.00000000e+00   0.00000000e+00 ...,   0.00000000e+00\n",
        "   -1.33242999e-02   1.77225331e-04]\n",
        " [  0.00000000e+00   0.00000000e+00   0.00000000e+00 ...,   1.08128982e-03\n",
        "    2.00993677e-03  -4.42092230e-03]]\n",
        "\n",
        " Calculating eigenvalues and eigenvectors\n"
       ]
      }
     ],
     "prompt_number": 13
    },
    {
     "cell_type": "markdown",
     "metadata": {},
     "source": [
      "Again, we recover the result shown before, but now we can access and manipulate the results."
     ]
    },
    {
     "cell_type": "code",
     "collapsed": false,
     "input": [
      "msm_ala5.msms[5]"
     ],
     "language": "python",
     "metadata": {},
     "outputs": [
      {
       "metadata": {},
       "output_type": "pyout",
       "prompt_number": 15,
       "text": [
        "<bestmsm.msm.MSM at 0x10cca61d0>"
       ]
      }
     ],
     "prompt_number": 15
    },
    {
     "cell_type": "markdown",
     "metadata": {},
     "source": [
      "As you can see msm_ala5.msms[5] is an instance of the MSM class. The trick is that a MasterMSM can keep simultaneously multiple MSM instances, corresponding to different lag times."
     ]
    },
    {
     "cell_type": "heading",
     "level": 2,
     "metadata": {},
     "source": [
      "Error analysis "
     ]
    },
    {
     "cell_type": "markdown",
     "metadata": {},
     "source": [
      "One nice feature of the implementation is that we can straightforwardly carry out a bootstrap analysis."
     ]
    },
    {
     "cell_type": "code",
     "collapsed": false,
     "input": [
      "tau_ave, tau_std, peq_ave, peq_std = msm_ala5.msms[5].boots()"
     ],
     "language": "python",
     "metadata": {},
     "outputs": [
      {
       "output_type": "stream",
       "stream": "stdout",
       "text": [
        "\n",
        " Doing bootstrap tests:\n",
        "     Total time: 400001\n",
        "     Number of trajectories: 1\n",
        "     Total number of transitions: 399996\n",
        "     Number of resamples: 100\n",
        "     ...splitting trajectories\n",
        "     Number of trajectories: 16"
       ]
      },
      {
       "output_type": "stream",
       "stream": "stdout",
       "text": [
        "\n",
        "     Median of trajectory length: 25000\n",
        "     ...doing bootstrap analysis\n",
        "     ...running on 4 processors\n"
       ]
      }
     ],
     "prompt_number": 18
    },
    {
     "cell_type": "markdown",
     "metadata": {},
     "source": [
      "Depending on the number of available processors, this may take some time. The number of bootstrap samples can be defined by the user, as well as whether results are being plotted.  "
     ]
    },
    {
     "cell_type": "heading",
     "level": 2,
     "metadata": {},
     "source": [
      "Committors and fluxes"
     ]
    },
    {
     "cell_type": "markdown",
     "metadata": {},
     "source": [
      "Another usual result we are interested in is the values of the pfold or committor, or the folding rates from one set of microstates (UU) to another set of microstates (FF). In order to do this calculation we use the Berezhkovskii-Hummer-Szabo method (J Chem Phys, 2009). In our case, we do the calculation as:"
     ]
    },
    {
     "cell_type": "code",
     "collapsed": false,
     "input": [
      "J, pfold, kf = msm_ala5.msms[5].do_pfold(FF=31, UU=0)"
     ],
     "language": "python",
     "metadata": {},
     "outputs": [
      {
       "output_type": "stream",
       "stream": "stdout",
       "text": [
        "\n",
        " Calculating commitment probabilities and fluxes...\n",
        "   definitely FF and UU states [0, 31]\n",
        "   reactive flux: 7.18426e-05\n",
        "   binding rate: 0.00115984\n"
       ]
      },
      {
       "output_type": "stream",
       "stream": "stderr",
       "text": [
        "/Users/daviddesancho/Research/code/BestMSM/bestmsm/msm_lib.py:208: ComplexWarning: Casting complex values to real discards the imaginary part\n",
        "  pss[i] = (1-pfold[i])*peq[i]\n",
        "/Users/daviddesancho/Research/code/BestMSM/bestmsm/msm_lib.py:215: ComplexWarning: Casting complex values to real discards the imaginary part\n",
        "  J[j][i] = K[j][i]*peq[i]*(pfold[j]-pfold[i])\n",
        "/Users/daviddesancho/Research/code/BestMSM/bestmsm/msm_lib.py:224: ComplexWarning: Casting complex values to real discards the imaginary part\n",
        "  print \"   binding rate: %g\"%kf\n"
       ]
      }
     ],
     "prompt_number": 19
    },
    {
     "cell_type": "heading",
     "level": 2,
     "metadata": {},
     "source": [
      "PCCA clustering"
     ]
    },
    {
     "cell_type": "markdown",
     "metadata": {},
     "source": [
      "The time-scale separation between modes can be exploited to generate more intuitive models where each individual state is formed by a cluster of mcirostates. To perform this clustering we import another module."
     ]
    },
    {
     "cell_type": "code",
     "collapsed": false,
     "input": [
      "import bestmsm.pcca import PCCA"
     ],
     "language": "python",
     "metadata": {},
     "outputs": [
      {
       "ename": "SyntaxError",
       "evalue": "invalid syntax (<ipython-input-22-109d845beada>, line 1)",
       "output_type": "pyerr",
       "traceback": [
        "\u001b[0;36m  File \u001b[0;32m\"<ipython-input-22-109d845beada>\"\u001b[0;36m, line \u001b[0;32m1\u001b[0m\n\u001b[0;31m    import bestmsm.pcca import PCCA\u001b[0m\n\u001b[0m                             ^\u001b[0m\n\u001b[0;31mSyntaxError\u001b[0m\u001b[0;31m:\u001b[0m invalid syntax\n"
       ]
      }
     ],
     "prompt_number": 22
    },
    {
     "cell_type": "code",
     "collapsed": false,
     "input": [],
     "language": "python",
     "metadata": {},
     "outputs": []
    }
   ],
   "metadata": {}
  }
 ]
}