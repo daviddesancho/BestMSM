{
 "metadata": {
  "celltoolbar": "Raw Cell Format",
  "name": "",
  "signature": "sha256:5c73e4888222d2710d420110900f940fd30189bad821b0b9a6832a3b713857a1"
 },
 "nbformat": 3,
 "nbformat_minor": 0,
 "worksheets": [
  {
   "cells": [
    {
     "cell_type": "heading",
     "level": 1,
     "metadata": {},
     "source": [
      "A simple working example of the BestMSM package"
     ]
    },
    {
     "cell_type": "markdown",
     "metadata": {},
     "source": [
      "The following provides a minimal example to how the BestMSM package works. We construct an MSM using data from simulations of the ala5 peptide, which is already discretized (!).\n",
      "We start by importing the package, which should be installed."
     ]
    },
    {
     "cell_type": "code",
     "collapsed": false,
     "input": [
      "import bestmsm.trajectory as traj"
     ],
     "language": "python",
     "metadata": {},
     "outputs": [],
     "prompt_number": 2
    },
    {
     "cell_type": "markdown",
     "metadata": {},
     "source": [
      "The only initial input is the name of the file with strings corresponding to time-stamps and state names (or indexes or whatever you want; they'll be handled as strings). In the current example states look like the following:"
     ]
    },
    {
     "cell_type": "markdown",
     "metadata": {},
     "source": [
      "```1 11111\n",
      "2 11111\n",
      "3 11111\n",
      "4 11111\n",
      "5 11111\n",
      "6 11111\n",
      "7 11111\n",
      "8 11111\n",
      "9 11111\n",
      "...\n",
      "```"
     ]
    },
    {
     "cell_type": "markdown",
     "metadata": {},
     "source": [
      "The strings of ones \"11111\" are just helix-coil states for the ala5 pentapeptide (all we see here are fully helical states).\n",
      "Then we generate an instance of the TimeSeries class."
     ]
    },
    {
     "cell_type": "code",
     "collapsed": false,
     "input": [
      "traj_ala5 = traj.TimeSeries(\"ala5_32states_timeseries.dat\")"
     ],
     "language": "python",
     "metadata": {},
     "outputs": [],
     "prompt_number": 3
    },
    {
     "cell_type": "markdown",
     "metadata": {},
     "source": [
      "The TimeSeries class has a number of atributes, like the time stamps ('time'), the corresponding time series for the states ('states'), the names of the states ('keys'), the lag between snapshots ('dt') and the filename ('filename')."
     ]
    },
    {
     "cell_type": "code",
     "collapsed": false,
     "input": [
      "traj_ala5.dt"
     ],
     "language": "python",
     "metadata": {},
     "outputs": [
      {
       "metadata": {},
       "output_type": "pyout",
       "prompt_number": 4,
       "text": [
        "1.0"
       ]
      }
     ],
     "prompt_number": 4
    },
    {
     "cell_type": "markdown",
     "metadata": {},
     "source": [
      "Having read one or multiple trajectories we now invoke the MSM class."
     ]
    },
    {
     "cell_type": "code",
     "collapsed": false,
     "input": [
      "import bestmsm.msm as msm\n",
      "msm_ala5 = msm.MSM([traj_ala5])"
     ],
     "language": "python",
     "metadata": {},
     "outputs": [],
     "prompt_number": 5
    },
    {
     "cell_type": "markdown",
     "metadata": {},
     "source": [
      "The only thing we have to start off is the set of states from the combined trajectories."
     ]
    },
    {
     "cell_type": "code",
     "collapsed": false,
     "input": [
      "print msm_ala5.keys"
     ],
     "language": "python",
     "metadata": {},
     "outputs": [
      {
       "output_type": "stream",
       "stream": "stdout",
       "text": [
        "['11111', '11110', '01111', '01110', '01101', '01100', '01000', '01001', '11000', '00000', '11001', '01011', '01010', '00010', '00110', '10110', '10111', '10100', '10101', '10001', '10000', '10010', '00111', '11101', '00101', '00100', '00011', '10011', '11011', '11100', '00001', '11010']\n"
       ]
      }
     ],
     "prompt_number": 6
    },
    {
     "cell_type": "markdown",
     "metadata": {},
     "source": [
      "Then we start computing interesting things like the count matrix."
     ]
    },
    {
     "cell_type": "code",
     "collapsed": false,
     "input": [
      "nji = msm_ala5.calc_count(lagt=10)"
     ],
     "language": "python",
     "metadata": {},
     "outputs": [],
     "prompt_number": 7
    },
    {
     "cell_type": "markdown",
     "metadata": {},
     "source": [
      "The array that we see is just the count matrix for a lag time of 10 (time units). Having the count matrix you can now calculate the transition matrix. Or we can directly calculate the transition matrix."
     ]
    },
    {
     "cell_type": "code",
     "collapsed": false,
     "input": [
      "trans = msm_ala5.calc_trans(lagt=10)"
     ],
     "language": "python",
     "metadata": {},
     "outputs": [
      {
       "output_type": "stream",
       "stream": "stdout",
       "text": [
        "[[7876  306   14 ...,    1    0    0]\n",
        " [ 306 4146    0 ...,   27    0    4]\n",
        " [  18    0 1254 ...,    0    0    0]\n",
        " ..., \n",
        " [   3   25    0 ..., 1901    0    0]\n",
        " [   0    0    0 ...,    0 1102    0]\n",
        " [   0    3    0 ...,    0    0  844]]\n"
       ]
      },
      {
       "ename": "TypeError",
       "evalue": "object of type 'NoneType' has no len()",
       "output_type": "pyerr",
       "traceback": [
        "\u001b[1;31m---------------------------------------------------------------------------\u001b[0m\n\u001b[1;31mTypeError\u001b[0m                                 Traceback (most recent call last)",
        "\u001b[1;32m<ipython-input-8-7d6cad1086ac>\u001b[0m in \u001b[0;36m<module>\u001b[1;34m()\u001b[0m\n\u001b[1;32m----> 1\u001b[1;33m \u001b[0mtrans\u001b[0m \u001b[1;33m=\u001b[0m \u001b[0mmsm_ala5\u001b[0m\u001b[1;33m.\u001b[0m\u001b[0mcalc_trans\u001b[0m\u001b[1;33m(\u001b[0m\u001b[0mlagt\u001b[0m\u001b[1;33m=\u001b[0m\u001b[1;36m10\u001b[0m\u001b[1;33m)\u001b[0m\u001b[1;33m\u001b[0m\u001b[0m\n\u001b[0m",
        "\u001b[1;32m/home/dd363/code/BestMSM/bestmsm/msm.py\u001b[0m in \u001b[0;36mcalc_trans\u001b[1;34m(self, count, lagt)\u001b[0m\n\u001b[0;32m     96\u001b[0m             \u001b[1;32mprint\u001b[0m \u001b[0mcount\u001b[0m\u001b[1;33m\u001b[0m\u001b[0m\n\u001b[0;32m     97\u001b[0m         \u001b[0mkeep_states\u001b[0m \u001b[1;33m=\u001b[0m \u001b[0mself\u001b[0m\u001b[1;33m.\u001b[0m\u001b[0mkeep_states\u001b[0m\u001b[1;33m\u001b[0m\u001b[0m\n\u001b[1;32m---> 98\u001b[1;33m         \u001b[0mnkeep\u001b[0m \u001b[1;33m=\u001b[0m \u001b[0mlen\u001b[0m\u001b[1;33m(\u001b[0m\u001b[0mkeep_states\u001b[0m\u001b[1;33m)\u001b[0m\u001b[1;33m\u001b[0m\u001b[0m\n\u001b[0m\u001b[0;32m     99\u001b[0m         \u001b[0mT\u001b[0m \u001b[1;33m=\u001b[0m \u001b[0mnp\u001b[0m\u001b[1;33m.\u001b[0m\u001b[0mzeros\u001b[0m\u001b[1;33m(\u001b[0m\u001b[1;33m[\u001b[0m\u001b[0mnkeep\u001b[0m\u001b[1;33m,\u001b[0m\u001b[0mnkeep\u001b[0m\u001b[1;33m]\u001b[0m\u001b[1;33m,\u001b[0m \u001b[0mfloat\u001b[0m\u001b[1;33m)\u001b[0m\u001b[1;33m\u001b[0m\u001b[0m\n\u001b[0;32m    100\u001b[0m         \u001b[1;32mfor\u001b[0m \u001b[0mi\u001b[0m \u001b[1;32min\u001b[0m \u001b[0mrange\u001b[0m\u001b[1;33m(\u001b[0m\u001b[0mnkeep\u001b[0m\u001b[1;33m)\u001b[0m\u001b[1;33m:\u001b[0m\u001b[1;33m\u001b[0m\u001b[0m\n",
        "\u001b[1;31mTypeError\u001b[0m: object of type 'NoneType' has no len()"
       ]
      }
     ],
     "prompt_number": 8
    },
    {
     "cell_type": "markdown",
     "metadata": {},
     "source": [
      "In the absence of a count matrix the library will just use the information of the trajectoy and the lag time."
     ]
    }
   ],
   "metadata": {}
  }
 ]
}