{
 "metadata": {
  "celltoolbar": "Raw Cell Format",
  "name": "",
  "signature": "sha256:312a378b620364267a6cc861611ac4d540ae1969f4af078e8322999f2079ad3e"
 },
 "nbformat": 3,
 "nbformat_minor": 0,
 "worksheets": [
  {
   "cells": [
    {
     "cell_type": "heading",
     "level": 1,
     "metadata": {},
     "source": [
      "A simple working example of the BestMSM package"
     ]
    },
    {
     "cell_type": "markdown",
     "metadata": {},
     "source": [
      "The following provides a minimal example to how the BestMSM package works. We construct an MSM using data from simulations of the ala5 peptide, which is already discretized (!).\n",
      "We start by importing the package, which should be installed."
     ]
    },
    {
     "cell_type": "code",
     "collapsed": false,
     "input": [
      "import bestmsm.trajectory as traj"
     ],
     "language": "python",
     "metadata": {},
     "outputs": []
    },
    {
     "cell_type": "markdown",
     "metadata": {},
     "source": [
      "The only initial input is the name of the file with strings corresponding to time-stamps and state names (or indexes or whatever you want; they'll be handled as strings). In the current example states look like the following:"
     ]
    },
    {
     "cell_type": "markdown",
     "metadata": {},
     "source": [
      "```1 11111\n",
      "2 11111\n",
      "3 11111\n",
      "4 11111\n",
      "5 11111\n",
      "6 11111\n",
      "7 11111\n",
      "8 11111\n",
      "9 11111\n",
      "...\n",
      "```"
     ]
    },
    {
     "cell_type": "markdown",
     "metadata": {},
     "source": [
      "The strings of ones \"11111\" are just helix-coil states for the ala5 pentapeptide (all we see here are fully helical states).\n",
      "Then we generate an instance of the TimeSeries class."
     ]
    },
    {
     "cell_type": "code",
     "collapsed": false,
     "input": [
      "traj_ala5 = traj.TimeSeries(\"ala5_32states_timeseries.dat\")"
     ],
     "language": "python",
     "metadata": {},
     "outputs": []
    },
    {
     "cell_type": "markdown",
     "metadata": {},
     "source": [
      "The TimeSeries class has a number of atributes, like the time stamps ('time'), the corresponding time series for the states ('states'), the names of the states ('keys'), the lag between snapshots ('dt') and the filename ('filename')."
     ]
    },
    {
     "cell_type": "code",
     "collapsed": false,
     "input": [
      "traj_ala5.dt"
     ],
     "language": "python",
     "metadata": {},
     "outputs": [
      {
       "metadata": {},
       "output_type": "pyout",
       "prompt_number": 3,
       "text": [
        "1.0"
       ]
      }
     ],
     "prompt_number": 3
    },
    {
     "cell_type": "markdown",
     "metadata": {},
     "source": [
      "Having read one or multiple trajectories we now invoke the MasterMSM class."
     ]
    },
    {
     "cell_type": "code",
     "collapsed": false,
     "input": [
      "import bestmsm.msm as msm\n",
      "msm_ala5 = msm.MasterMSM([traj_ala5])"
     ],
     "language": "python",
     "metadata": {},
     "outputs": []
    },
    {
     "cell_type": "markdown",
     "metadata": {},
     "source": [
      "The only thing we have to start off is the set of states from the combined trajectories."
     ]
    },
    {
     "cell_type": "code",
     "collapsed": false,
     "input": [
      "print msm_ala5.keys"
     ],
     "language": "python",
     "metadata": {},
     "outputs": []
    },
    {
     "cell_type": "markdown",
     "metadata": {},
     "source": [
      "Then we start computing interesting things like the count matrix."
     ]
    },
    {
     "cell_type": "code",
     "collapsed": false,
     "input": [
      "nji = msm_ala5.calc_count(lagt=10)"
     ],
     "language": "python",
     "metadata": {},
     "outputs": []
    },
    {
     "cell_type": "markdown",
     "metadata": {},
     "source": [
      "The array that we see is just the count matrix for a lag time of 10 (time units). Having the count matrix you can now calculate the transition matrix. Or we can directly calculate the transition matrix."
     ]
    },
    {
     "cell_type": "code",
     "collapsed": false,
     "input": [
      "trans = msm_ala5.calc_trans(lagt=10)"
     ],
     "language": "python",
     "metadata": {},
     "outputs": []
    },
    {
     "cell_type": "markdown",
     "metadata": {},
     "source": [
      "In the absence of a count matrix the library will just use the information of the trajectoy and the lag time."
     ]
    }
   ],
   "metadata": {}
  }
 ]
}
