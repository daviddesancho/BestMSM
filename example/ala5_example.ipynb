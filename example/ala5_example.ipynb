{
 "metadata": {
  "name": "",
  "signature": "sha256:a659bb3e63c76a2309431b24d444a118b08dedeee5be81ce8fec5ffd931b72c6"
 },
 "nbformat": 3,
 "nbformat_minor": 0,
 "worksheets": [
  {
   "cells": [
    {
     "cell_type": "heading",
     "level": 1,
     "metadata": {},
     "source": [
      "A simple working example of the BestMSM package"
     ]
    },
    {
     "cell_type": "markdown",
     "metadata": {},
     "source": [
      "The following provides a minimal example to how the BestMSM package works. We construct an MSM using data from simulations of the ala5 peptide, which is already discretized (!).\n",
      "We start by importing the package, which should be installed."
     ]
    },
    {
     "cell_type": "code",
     "collapsed": false,
     "input": [
      "import bestmsm.trajectory as traj"
     ],
     "language": "python",
     "metadata": {},
     "outputs": [],
     "prompt_number": 3
    },
    {
     "cell_type": "markdown",
     "metadata": {},
     "source": [
      "The only initial input is the name of the file with strings corresponding to time-stamps and state names (or indexes or whatever you want; they'll be handled as strings). In the current example states look like the following:"
     ]
    },
    {
     "cell_type": "code",
     "collapsed": false,
     "input": [
      "1 11111\n",
      "2 11111\n",
      "3 11111\n",
      "4 11111\n",
      "5 11111\n",
      "6 11111\n",
      "7 11111\n",
      "8 11111\n",
      "9 11111\n",
      "..."
     ],
     "language": "python",
     "metadata": {},
     "outputs": [
      {
       "ename": "SyntaxError",
       "evalue": "invalid syntax (<ipython-input-2-dd2f9c752768>, line 1)",
       "output_type": "pyerr",
       "traceback": [
        "\u001b[0;36m  File \u001b[0;32m\"<ipython-input-2-dd2f9c752768>\"\u001b[0;36m, line \u001b[0;32m1\u001b[0m\n\u001b[0;31m    1 11111\u001b[0m\n\u001b[0m          ^\u001b[0m\n\u001b[0;31mSyntaxError\u001b[0m\u001b[0;31m:\u001b[0m invalid syntax\n"
       ]
      }
     ],
     "prompt_number": 2
    },
    {
     "cell_type": "markdown",
     "metadata": {},
     "source": [
      "The strings of ones \"11111\" are just helix-coil states for the ala5 pentapeptide (all we see here are fully helical states).\n",
      "Then we generate an instance of the TimeSeries class."
     ]
    },
    {
     "cell_type": "code",
     "collapsed": false,
     "input": [
      "traj_ala5 = traj.TimeSeries(\"ala5_32states_timeseries.dat\")"
     ],
     "language": "python",
     "metadata": {},
     "outputs": [],
     "prompt_number": 4
    },
    {
     "cell_type": "markdown",
     "metadata": {},
     "source": [
      "The TimeSeries class has a number of atributes, like the time stamps ('time'), the corresponding time series for the states ('states'), the names of the states ('keys'), the lag between snapshots ('dt') and the filename ('filename')."
     ]
    },
    {
     "cell_type": "code",
     "collapsed": false,
     "input": [
      "traj_ala5.dt"
     ],
     "language": "python",
     "metadata": {},
     "outputs": [
      {
       "metadata": {},
       "output_type": "pyout",
       "prompt_number": 4,
       "text": [
        "1.0"
       ]
      }
     ],
     "prompt_number": 4
    },
    {
     "cell_type": "markdown",
     "metadata": {},
     "source": [
      "Having read one or multiple trajectories we now invoke the MSM class."
     ]
    },
    {
     "cell_type": "code",
     "collapsed": false,
     "input": [
      "import bestmsm.msm as msm\n",
      "msm_ala5 = msm.MSM([traj_ala5])"
     ],
     "language": "python",
     "metadata": {},
     "outputs": [],
     "prompt_number": 6
    },
    {
     "cell_type": "markdown",
     "metadata": {},
     "source": [
      "The only thing we have to start off is the set of states from the combined trajectories."
     ]
    },
    {
     "cell_type": "code",
     "collapsed": false,
     "input": [
      "print msm_ala5.keys"
     ],
     "language": "python",
     "metadata": {},
     "outputs": [
      {
       "output_type": "stream",
       "stream": "stdout",
       "text": [
        "['11111', '11110', '01111', '01110', '01101', '01100', '01000', '01001', '11000', '00000', '11001', '01011', '01010', '00010', '00110', '10110', '10111', '10100', '10101', '10001', '10000', '10010', '00111', '11101', '00101', '00100', '00011', '10011', '11011', '11100', '00001', '11010']\n"
       ]
      }
     ],
     "prompt_number": 7
    },
    {
     "cell_type": "markdown",
     "metadata": {},
     "source": [
      "Then we start computing interesting things like the count matrix."
     ]
    },
    {
     "cell_type": "code",
     "collapsed": false,
     "input": [
      "nji = msm_ala5.calc_count(lagt=10)"
     ],
     "language": "python",
     "metadata": {},
     "outputs": [],
     "prompt_number": 9
    },
    {
     "cell_type": "markdown",
     "metadata": {},
     "source": [
      "The array that we see is just the count matrix for a lag time of 10 (time units). Having the count matrix you can now calculate the transition matrix. Or we can directly calculate the transition matrix."
     ]
    },
    {
     "cell_type": "code",
     "collapsed": false,
     "input": [
      "trans = msm_ala5.calc_trans(lagt=10)"
     ],
     "language": "python",
     "metadata": {},
     "outputs": []
    },
    {
     "cell_type": "markdown",
     "metadata": {},
     "source": [
      "In the absence of a count matrix the library will just use the information of the trajectoy and the lag time."
     ]
    }
   ],
   "metadata": {}
  }
 ]
}