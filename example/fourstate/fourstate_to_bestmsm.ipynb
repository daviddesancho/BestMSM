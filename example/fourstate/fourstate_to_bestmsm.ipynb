{
 "cells": [
  {
   "cell_type": "markdown",
   "metadata": {},
   "source": [
    "# Four state mapping onto bestmsm\n",
    "The goal of this script is to map between the results obtained using the ```Fourstate``` class and those obtained with the ```BestMSM``` package. In particular we care about the estimation of fluxes and paths for the four state model. First we create the instances of the ```Fourstate``` and ```BestMSM.MSM``` classes."
   ]
  },
  {
   "cell_type": "code",
   "execution_count": 1,
   "metadata": {
    "collapsed": false
   },
   "outputs": [
    {
     "name": "stdout",
     "output_type": "stream",
     "text": [
      "\n",
      " count matrix:\n",
      "[[468324    832    470      0]\n",
      " [   832 120096    350     52]\n",
      " [   470    350  92721   1831]\n",
      " [     0     52   1831 636804]]\n",
      "\n",
      " transition matrix:\n",
      "[[  9.97227581e-01   6.85733125e-03   4.92807113e-03   0.00000000e+00]\n",
      " [  1.77162253e-03   9.89829391e-01   3.66984020e-03   8.14170321e-05]\n",
      " [  1.00079638e-03   2.88469463e-03   9.72203582e-01   2.86681896e-03]\n",
      " [  0.00000000e+00   4.28583203e-04   1.91985069e-02   9.97051764e-01]]\n",
      "\n",
      " rate:\n",
      "[[ -2.77241890e-03   6.85733125e-03   4.92807113e-03   0.00000000e+00]\n",
      " [  1.77162253e-03  -1.01706091e-02   3.66984020e-03   8.14170321e-05]\n",
      " [  1.00079638e-03   2.88469463e-03  -2.77964182e-02   2.86681896e-03]\n",
      " [  0.00000000e+00   4.28583203e-04   1.91985069e-02  -2.94823599e-03]]\n",
      "\n",
      " equilibrium probabilities:\n",
      "[ 0.3544307   0.09156877  0.07197805  0.48202247]\n",
      "\n",
      " eigenvalues:\n",
      "[  6.57711856e-19  -1.89528180e-03  -1.13818135e-02  -3.04105869e-02]\n"
     ]
    }
   ],
   "source": [
    "%matplotlib inline\n",
    "import matplotlib.pyplot as plt\n",
    "import fourstate\n",
    "import itertools\n",
    "import networkx as nx\n",
    "import numpy as np\n",
    "bhs = fourstate.FourState()"
   ]
  },
  {
   "cell_type": "markdown",
   "metadata": {},
   "source": [
    "This much we knew already. Now we just have to produce an instance of the ```BestMSM.MSM``` class that has the same count and transition matrices."
   ]
  },
  {
   "cell_type": "code",
   "execution_count": 2,
   "metadata": {
    "collapsed": false
   },
   "outputs": [],
   "source": [
    "import bestmsm.msm as msm\n",
    "bhsmsm = msm.MSM(keys = range(4))\n",
    "bhsmsm.count = bhs.count\n",
    "bhsmsm.keep_states = range(4)\n",
    "bhsmsm.keep_keys = range(4)\n",
    "bhsmsm.trans = bhs.trans\n",
    "bhsmsm.rate = bhs.K\n",
    "bhsmsm.tauK, bhsmsm.peqK = bhsmsm.calc_eigsK()"
   ]
  },
  {
   "cell_type": "markdown",
   "metadata": {},
   "source": [
    "So now we already have a transition matrix, eigenvalues and eigenvectors which are the same for the ```Fourstate``` and ```BestMSM.MSM``` class. The important bits start next, with the flux and pfold estimations."
   ]
  },
  {
   "cell_type": "code",
   "execution_count": 3,
   "metadata": {
    "collapsed": false
   },
   "outputs": [
    {
     "name": "stdout",
     "output_type": "stream",
     "text": [
      "\n",
      " pfold values:\n",
      "[ 0.          0.24729852  0.72333251  1.        ]\n",
      "\n",
      " flux :\n",
      "[[ -0.00000000e+00  -1.55283051e-04  -2.56575420e-04  -0.00000000e+00]\n",
      " [  1.55283051e-04  -0.00000000e+00  -1.25743403e-04  -2.95396480e-05]\n",
      " [  2.56575420e-04   1.25743403e-04  -0.00000000e+00  -3.82318823e-04]\n",
      " [  0.00000000e+00   2.95396480e-05   3.82318823e-04  -0.00000000e+00]]\n",
      "\n",
      " reactive flux: 0.000411858\n",
      "   definitely FF and UU states [0, 3]\n",
      " These are the flux matrices\n",
      "[[ -0.00000000e+00  -1.55283051e-04  -2.56575420e-04  -0.00000000e+00]\n",
      " [  1.55283051e-04  -0.00000000e+00  -1.25743403e-04  -2.95396480e-05]\n",
      " [  2.56575420e-04   1.25743403e-04  -0.00000000e+00  -3.82318823e-04]\n",
      " [  0.00000000e+00   2.95396480e-05   3.82318823e-04  -0.00000000e+00]]\n",
      "[[ -0.00000000e+00  -1.55283051e-04  -2.56575420e-04  -0.00000000e+00]\n",
      " [  1.55283051e-04  -0.00000000e+00  -1.25743403e-04  -2.95396480e-05]\n",
      " [  2.56575420e-04   1.25743403e-04  -0.00000000e+00  -3.82318823e-04]\n",
      " [  0.00000000e+00   2.95396480e-05   3.82318823e-04  -0.00000000e+00]]\n",
      " And these are the total flux values\n",
      "    from Fourstate: 0.000411858\n",
      "    from BestMSM.MSM: 0.000411858\n"
     ]
    }
   ],
   "source": [
    "bhs.run_commit()\n",
    "bhsmsm.do_pfold(UU=[0], FF=[3])\n",
    "print \" These are the flux matrices\"\n",
    "print bhs.J\n",
    "print bhsmsm.J\n",
    "print \" And these are the total flux values\"\n",
    "print \"    from Fourstate: %g\"%bhs.sum_flux\n",
    "print \"    from BestMSM.MSM: %g\"%bhs.sum_flux"
   ]
  },
  {
   "cell_type": "markdown",
   "metadata": {},
   "source": [
    "It really looks like we have got the same exact thing, as intended. Next comes the generation of paths. This implies defining a function in the case of the ```Fourstate``` object."
   ]
  },
  {
   "cell_type": "code",
   "execution_count": 4,
   "metadata": {
    "collapsed": false
   },
   "outputs": [
    {
     "name": "stdout",
     "output_type": "stream",
     "text": [
      "[0, 1, 2, 3]\n",
      " 0 ->  1: 1.5528e-04 \n",
      " 1 ->  2: 1.2574e-04 1.5528e-04\n",
      " 2 ->  3: 3.8232e-04 3.8232e-04\n",
      "  J(path) = 1.2574e-04\n",
      "\n",
      "[0, 1, 3]\n",
      " 0 ->  1: 1.5528e-04 \n",
      " 1 ->  3: 2.9540e-05 1.5528e-04\n",
      "  J(path) = 2.9540e-05\n",
      "\n",
      "[0, 2, 3]\n",
      " 0 ->  2: 2.5658e-04 \n",
      " 2 ->  3: 3.8232e-04 3.8232e-04\n",
      "  J(path) = 2.5658e-04\n",
      "\n",
      " Commulative flux: 4.1186e-04\n"
     ]
    }
   ],
   "source": [
    "def gen_path_lengths(keys, J, pfold, flux, FF, UU):\n",
    "    nkeys = len(keys)\n",
    "    I = [x for x in range(nkeys) if x not in FF+UU]\n",
    "    Jnode = []\n",
    "    # calculate flux going through nodes\n",
    "    for i in range(nkeys):\n",
    "        Jnode.append(np.sum([J[i,x] for x in range(nkeys) \\\n",
    "                             if pfold[x] < pfold[i]]))\n",
    "    # define matrix with edge lengths\n",
    "    Jpath = np.zeros((nkeys, nkeys), float)\n",
    "    for i in UU:\n",
    "        for j in I + FF:\n",
    "            if J[j,i] > 0:\n",
    "                Jpath[j,i] = np.log(flux/J[j,i]) + 1 # I add 1\n",
    "    for i in I:\n",
    "        for j in [x for x in FF+I if pfold[x] > pfold[i]]:\n",
    "            if J[j,i] > 0:\n",
    "                Jpath[j,i] = np.log(Jnode[j]/J[j,i]) + 1 # I add 1\n",
    "    return Jnode, Jpath\n",
    "\n",
    "Jnode, Jpath = gen_path_lengths(range(4), bhs.J, bhs.pfold, \\\n",
    "                                bhs.sum_flux, [3], [0])\n",
    "JpathG = nx.DiGraph(Jpath.transpose())\n",
    "\n",
    "tot_flux = 0\n",
    "for path in nx.all_simple_paths(JpathG, 0, 3):\n",
    "    print path\n",
    "    f = bhs.J[path[1],path[0]]\n",
    "    print \"%2i -> %2i: %10.4e \"%(path[0], path[1], \\\n",
    "                bhs.J[path[1],path[0]])\n",
    "    for i in range(2, len(path)):\n",
    "        print \"%2i -> %2i: %10.4e %10.4e\"%(path[i-1], path[i], \\\n",
    "                bhs.J[path[i],path[i-1]], Jnode[path[i-1]])\n",
    "        f *= bhs.J[path[i],path[i-1]]/Jnode[path[i-1]]\n",
    "    tot_flux +=f\n",
    "    print \"  J(path) = %10.4e\"%f\n",
    "    print\n",
    "print \" Commulative flux: %10.4e\"%tot_flux"
   ]
  },
  {
   "cell_type": "markdown",
   "metadata": {},
   "source": [
    "For ```BestMSM.MSM``` everything should be built in. First we obtain the 4 highest flux paths."
   ]
  },
  {
   "cell_type": "code",
   "execution_count": 5,
   "metadata": {
    "collapsed": false
   },
   "outputs": [
    {
     "name": "stdout",
     "output_type": "stream",
     "text": [
      " Total flux 0.000411858470592\n",
      " path  [0, 2, 3]\n",
      "   flux: 2.57e-04; ratio: 6.23e-01; leftover: 3.77e-01\n",
      " path  [0, 1, 2, 3]\n",
      "   flux: 1.26e-04; ratio: 3.05e-01; leftover: 7.17e-02\n",
      " path  [0, 1, 3]\n",
      "   flux: 2.95e-05; ratio: 7.17e-02; leftover: -8.80e-16\n",
      " No paths\n",
      " Flux from paths -8.80229805407e-16\n",
      "printing\n",
      "\n",
      " Writing graph in dot format...\n"
     ]
    },
    {
     "data": {
      "text/plain": [
       "[(((3, 0), [0, 2, 3], 1.5476820153502904), 0.00025657541958512564),\n",
       " (((3, 0), [0, 1, 2, 3], 1.2110062410582523), 0.00012574340295749901),\n",
       " (((3, 0), [0, 1, 3], 0.9999999999999835), 2.9539648049723218e-05)]"
      ]
     },
     "execution_count": 5,
     "metadata": {},
     "output_type": "execute_result"
    }
   ],
   "source": [
    "bhsmsm.do_dijkstra(UU=[0], FF=[3], npath=3)"
   ]
  },
  {
   "cell_type": "markdown",
   "metadata": {},
   "source": [
    "Then we use the alternative mechanism of giving a cutoff for the flux left. Here we want to account for 80% of the flux."
   ]
  },
  {
   "cell_type": "code",
   "execution_count": 11,
   "metadata": {
    "collapsed": false
   },
   "outputs": [
    {
     "name": "stdout",
     "output_type": "stream",
     "text": [
      "   definitely FF and UU states [0, 3]\n",
      " Total flux 0.000411858470592\n",
      " path  [0, 2, 3]\n",
      "   flux: 2.57e-04; ratio: 6.23e-01; leftover: 3.77e-01\n",
      " path  [0, 1, 2, 3]\n",
      "   flux: 1.26e-04; ratio: 3.05e-01; leftover: 7.17e-02\n",
      " Flux from paths 0.0717228129538\n",
      "printing\n",
      "\n",
      " Writing graph in dot format...\n"
     ]
    },
    {
     "data": {
      "text/plain": [
       "[(((3, 0), [0, 2, 3], 1.5476820153502904), 0.00025657541958512564),\n",
       " (((3, 0), [0, 1, 2, 3], 1.2110062410582523), 0.00012574340295749901)]"
      ]
     },
     "execution_count": 11,
     "metadata": {},
     "output_type": "execute_result"
    }
   ],
   "source": [
    "bhsmsm.do_pfold(UU=[0], FF=[3])\n",
    "bhsmsm.do_dijkstra(UU=[0], FF=[3], cut=0.2)"
   ]
  },
  {
   "cell_type": "markdown",
   "metadata": {},
   "source": [
    "So at least for this simple example, things are working perfectly fine."
   ]
  }
 ],
 "metadata": {
  "kernelspec": {
   "display_name": "Python 2",
   "language": "python",
   "name": "python2"
  },
  "language_info": {
   "codemirror_mode": {
    "name": "ipython",
    "version": 2
   },
   "file_extension": ".py",
   "mimetype": "text/x-python",
   "name": "python",
   "nbconvert_exporter": "python",
   "pygments_lexer": "ipython2",
   "version": "2.7.9"
  }
 },
 "nbformat": 4,
 "nbformat_minor": 0
}
