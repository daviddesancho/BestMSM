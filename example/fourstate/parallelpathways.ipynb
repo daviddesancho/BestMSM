{
 "cells": [
  {
   "cell_type": "markdown",
   "metadata": {},
   "source": [
    "# Parallel pathways model\n",
    "We give another go at the estimation of highest flux paths using a slightly more complicated model involving six states. I adapt the ```Fourstate``` class so that we can do the same exact thing as before. The model system looks like the following.\n",
    "\n",
    "<img src=\"files/parallel.png\">"
   ]
  },
  {
   "cell_type": "markdown",
   "metadata": {},
   "source": [
    "### Initialization\n",
    "As before we initialize the system producing the transition count matrix ($\\mathbf{N}$), transition probability matrix ($\\mathbf{T}$) and rate matrix ($\\mathbf{K}$). I slightly modify the values in the count matrix preserving its topology, so that not all numbers are equal."
   ]
  },
  {
   "cell_type": "code",
   "execution_count": 8,
   "metadata": {
    "collapsed": false
   },
   "outputs": [
    {
     "name": "stdout",
     "output_type": "stream",
     "text": [
      "\n",
      " count matrix:\n",
      "[[26000     5     2     0     0     0]\n",
      " [    5  4000     1     3     2     0]\n",
      " [    2     1  1500     2     2     0]\n",
      " [    0     3     2  1000     1     2]\n",
      " [    0     2     2     1  2000    10]\n",
      " [    0     0     0     2    10 59000]]\n",
      "\n",
      " transition matrix:\n",
      "[[  9.99730842e-01   1.24657193e-03   1.32714001e-03   0.00000000e+00\n",
      "    0.00000000e+00   0.00000000e+00]\n",
      " [  1.92255931e-04   9.97257542e-01   6.63570007e-04   2.97619048e-03\n",
      "    9.92555831e-04   0.00000000e+00]\n",
      " [  7.69023724e-05   2.49314385e-04   9.95355010e-01   1.98412698e-03\n",
      "    9.92555831e-04   0.00000000e+00]\n",
      " [  0.00000000e+00   7.47943156e-04   1.32714001e-03   9.92063492e-01\n",
      "    4.96277916e-04   3.38914119e-05]\n",
      " [  0.00000000e+00   4.98628771e-04   1.32714001e-03   9.92063492e-04\n",
      "    9.92555831e-01   1.69457060e-04]\n",
      " [  0.00000000e+00   0.00000000e+00   0.00000000e+00   1.98412698e-03\n",
      "    4.96277916e-03   9.99796652e-01]]\n",
      "\n",
      " rate:\n",
      "[[ -2.69158304e-04   1.24657193e-03   1.32714001e-03   0.00000000e+00\n",
      "    0.00000000e+00   0.00000000e+00]\n",
      " [  1.92255931e-04  -2.74245824e-03   6.63570007e-04   2.97619048e-03\n",
      "    9.92555831e-04   0.00000000e+00]\n",
      " [  7.69023724e-05   2.49314385e-04  -4.64499005e-03   1.98412698e-03\n",
      "    9.92555831e-04   0.00000000e+00]\n",
      " [  0.00000000e+00   7.47943156e-04   1.32714001e-03  -7.93650794e-03\n",
      "    4.96277916e-04   3.38914119e-05]\n",
      " [  0.00000000e+00   4.98628771e-04   1.32714001e-03   9.92063492e-04\n",
      "   -7.44416873e-03   1.69457060e-04]\n",
      " [  0.00000000e+00   0.00000000e+00   0.00000000e+00   1.98412698e-03\n",
      "    4.96277916e-03  -2.03348471e-04]]\n",
      "\n",
      " equilibrium probabilities:\n",
      "[ 0.27797136  0.04287088  0.01610731  0.01077383  0.02153698  0.63073963]\n",
      "\n",
      " eigenvalues:\n",
      "[  7.17872125e-19  -1.42951795e-04  -1.97929033e-03  -4.23523330e-03\n",
      "  -8.00731423e-03  -8.87584208e-03]\n"
     ]
    }
   ],
   "source": [
    "%matplotlib inline\n",
    "import matplotlib.pyplot as plt\n",
    "import parallel\n",
    "import itertools\n",
    "import networkx as nx\n",
    "import numpy as np\n",
    "bhs = parallel.Parallel()"
   ]
  },
  {
   "cell_type": "markdown",
   "metadata": {},
   "source": [
    "Again, the system exhibits a time scale separation between the first and second modes as we would expect."
   ]
  },
  {
   "cell_type": "code",
   "execution_count": 9,
   "metadata": {
    "collapsed": false
   },
   "outputs": [
    {
     "data": {
      "image/png": "[encoded data removed]",
      "text/plain": [
       "<matplotlib.figure.Figure at 0x1071c46d0>"
      ]
     },
     "metadata": {},
     "output_type": "display_data"
    }
   ],
   "source": [
    "fig, ax = plt.subplots()\n",
    "ax.bar([x+0.9 for x in range(5)], -1./bhs.evals[1:], width=0.2)\n",
    "ax.set_xlabel(r'Eigenvalue', fontsize=16)\n",
    "ax.set_ylabel(r'$\\tau_i$', fontsize=18)\n",
    "ax.set_xlim([0.5,5.5])\n",
    "plt.show()"
   ]
  },
  {
   "cell_type": "markdown",
   "metadata": {},
   "source": [
    "###Committors and reactive flux"
   ]
  },
  {
   "cell_type": "code",
   "execution_count": 10,
   "metadata": {
    "collapsed": false
   },
   "outputs": [
    {
     "name": "stdout",
     "output_type": "stream",
     "text": [
      "\n",
      " pfold values:\n",
      "[ 0.          0.35204478  0.4534287   0.59710776  0.81387032  1.        ]\n",
      "\n",
      " flux :\n",
      "[[ -0.00000000e+00  -1.88138512e-05  -9.69278975e-06  -0.00000000e+00\n",
      "   -0.00000000e+00  -0.00000000e+00]\n",
      " [  1.88138512e-05  -0.00000000e+00  -1.08362464e-06  -7.85794067e-06\n",
      "   -9.87228586e-06  -0.00000000e+00]\n",
      " [  9.69278975e-06   1.08362464e-06  -0.00000000e+00  -3.07137782e-06\n",
      "   -7.70503657e-06  -0.00000000e+00]\n",
      " [  0.00000000e+00   7.85794067e-06   3.07137782e-06  -0.00000000e+00\n",
      "   -2.31682938e-06  -8.61248911e-06]\n",
      " [  0.00000000e+00   9.87228586e-06   7.70503657e-06   2.31682938e-06\n",
      "   -0.00000000e+00  -1.98941518e-05]\n",
      " [  0.00000000e+00   0.00000000e+00   0.00000000e+00   8.61248911e-06\n",
      "    1.98941518e-05  -0.00000000e+00]]\n",
      "\n",
      " reactive flux: 2.85066e-05\n"
     ]
    }
   ],
   "source": [
    "bhs.run_commit()"
   ]
  },
  {
   "cell_type": "markdown",
   "metadata": {},
   "source": [
    "We check for the property of flux conservation, i.e. $J_j=\\sum_{p_{fold}(i)<p_{fold}(j)}J_{i\\rightarrow j}=\\sum_{p_{fold}(i)>p_{fold}(j)}J_{j\\rightarrow i}$."
   ]
  },
  {
   "cell_type": "code",
   "execution_count": 11,
   "metadata": {
    "collapsed": false
   },
   "outputs": [
    {
     "name": "stdout",
     "output_type": "stream",
     "text": [
      " j   J_j(<-)    J_j(->)\n",
      " -  --------   --------\n",
      " 1 1.8814e-05 1.8814e-05\n",
      " 2 1.0776e-05 1.0776e-05\n",
      " 3 1.0929e-05 1.0929e-05\n",
      " 4 1.9894e-05 1.9894e-05\n"
     ]
    }
   ],
   "source": [
    "print \" j   J_j(<-)    J_j(->)\"\n",
    "print \" -  --------   --------\"\n",
    "for i in range(1,5):\n",
    "    print \"%2i %10.4e %10.4e\"%(i, np.sum([bhs.J[i,x] for x in range(6) if bhs.pfold[x] < bhs.pfold[i]]),\\\n",
    "                               np.sum([bhs.J[x,i] for x in range(6) if bhs.pfold[x] > bhs.pfold[i]]))"
   ]
  },
  {
   "cell_type": "markdown",
   "metadata": {},
   "source": [
    "Once that we have checked for this, we can now generate paths."
   ]
  },
  {
   "cell_type": "code",
   "execution_count": 12,
   "metadata": {
    "collapsed": true
   },
   "outputs": [],
   "source": [
    "import tpt_functions\n",
    "\n",
    "Jnode, Jpath = tpt_functions.gen_path_lengths(range(6), bhs.J, bhs.pfold, \\\n",
    "                                bhs.sum_flux, [5], [0])\n",
    "JpathG = nx.DiGraph(Jpath.transpose())"
   ]
  },
  {
   "cell_type": "code",
   "execution_count": 13,
   "metadata": {
    "collapsed": false
   },
   "outputs": [
    {
     "name": "stdout",
     "output_type": "stream",
     "text": [
      "[0, 1, 2, 3, 4, 5]\n",
      " 0 ->  1: 1.8814e-05 \n",
      " 1 ->  2: 1.0836e-06 1.8814e-05\n",
      " 2 ->  3: 3.0714e-06 1.0776e-05\n",
      " 3 ->  4: 2.3168e-06 1.0929e-05\n",
      " 4 ->  5: 1.9894e-05 1.9894e-05\n",
      "  J(path) = 6.5469e-08\n",
      "\n",
      "[0, 1, 2, 3, 5]\n",
      " 0 ->  1: 1.8814e-05 \n",
      " 1 ->  2: 1.0836e-06 1.8814e-05\n",
      " 2 ->  3: 3.0714e-06 1.0776e-05\n",
      " 3 ->  5: 8.6125e-06 1.0929e-05\n",
      "  J(path) = 2.4337e-07\n",
      "\n",
      "[0, 1, 2, 4, 5]\n",
      " 0 ->  1: 1.8814e-05 \n",
      " 1 ->  2: 1.0836e-06 1.8814e-05\n",
      " 2 ->  4: 7.7050e-06 1.0776e-05\n",
      " 4 ->  5: 1.9894e-05 1.9894e-05\n",
      "  J(path) = 7.7478e-07\n",
      "\n",
      "[0, 1, 3, 4, 5]\n",
      " 0 ->  1: 1.8814e-05 \n",
      " 1 ->  3: 7.8579e-06 1.8814e-05\n",
      " 3 ->  4: 2.3168e-06 1.0929e-05\n",
      " 4 ->  5: 1.9894e-05 1.9894e-05\n",
      "  J(path) = 1.6657e-06\n",
      "\n",
      "[0, 1, 3, 5]\n",
      " 0 ->  1: 1.8814e-05 \n",
      " 1 ->  3: 7.8579e-06 1.8814e-05\n",
      " 3 ->  5: 8.6125e-06 1.0929e-05\n",
      "  J(path) = 6.1922e-06\n",
      "\n",
      "[0, 1, 4, 5]\n",
      " 0 ->  1: 1.8814e-05 \n",
      " 1 ->  4: 9.8723e-06 1.8814e-05\n",
      " 4 ->  5: 1.9894e-05 1.9894e-05\n",
      "  J(path) = 9.8723e-06\n",
      "\n",
      "[0, 2, 3, 4, 5]\n",
      " 0 ->  2: 9.6928e-06 \n",
      " 2 ->  3: 3.0714e-06 1.0776e-05\n",
      " 3 ->  4: 2.3168e-06 1.0929e-05\n",
      " 4 ->  5: 1.9894e-05 1.9894e-05\n",
      "  J(path) = 5.8561e-07\n",
      "\n",
      "[0, 2, 3, 5]\n",
      " 0 ->  2: 9.6928e-06 \n",
      " 2 ->  3: 3.0714e-06 1.0776e-05\n",
      " 3 ->  5: 8.6125e-06 1.0929e-05\n",
      "  J(path) = 2.1769e-06\n",
      "\n",
      "[0, 2, 4, 5]\n",
      " 0 ->  2: 9.6928e-06 \n",
      " 2 ->  4: 7.7050e-06 1.0776e-05\n",
      " 4 ->  5: 1.9894e-05 1.9894e-05\n",
      "  J(path) = 6.9303e-06\n",
      "\n",
      " Commulative flux: 2.8507e-05\n"
     ]
    }
   ],
   "source": [
    "tot_flux = 0\n",
    "for path in nx.all_simple_paths(JpathG, 0, 5):\n",
    "    print path\n",
    "    f = bhs.J[path[1],path[0]]\n",
    "    print \"%2i -> %2i: %10.4e \"%(path[0], path[1], \\\n",
    "                bhs.J[path[1],path[0]])\n",
    "    for i in range(2, len(path)):\n",
    "        print \"%2i -> %2i: %10.4e %10.4e\"%(path[i-1], path[i], \\\n",
    "                bhs.J[path[i],path[i-1]], Jnode[path[i-1]])\n",
    "        f *= bhs.J[path[i],path[i-1]]/Jnode[path[i-1]]\n",
    "    tot_flux +=f\n",
    "    print \"  J(path) = %10.4e\"%f\n",
    "    print\n",
    "print \" Commulative flux: %10.4e\"%tot_flux"
   ]
  },
  {
   "cell_type": "markdown",
   "metadata": {},
   "source": [
    "According to the enumeration of paths, the highest flux paths would be:\n",
    "\n",
    "1. 0$\\rightarrow$1$\\rightarrow$4$\\rightarrow$5; $J=$9.87e-06\n",
    "2. 0$\\rightarrow$2$\\rightarrow$4$\\rightarrow$5; $J=$6.93e-06\n",
    "3. 0$\\rightarrow$1$\\rightarrow$3$\\rightarrow$5; $J=$6.19e-06\n",
    "4. 0$\\rightarrow$2$\\rightarrow$3$\\rightarrow$5; $J=$2.18e-06\n"
   ]
  },
  {
   "cell_type": "markdown",
   "metadata": {},
   "source": [
    "###Highest flux paths\n",
    "Again, we check whether we can get the hierarchy of paths by removing the flux from the edges of the graph involved in the highest flux paths."
   ]
  },
  {
   "cell_type": "code",
   "execution_count": 14,
   "metadata": {
    "collapsed": false
   },
   "outputs": [
    {
     "name": "stdout",
     "output_type": "stream",
     "text": [
      " shortest path: [0, 1, 4, 5] 1.06040565451\n",
      " 0 ->  1: 1.8814e-05 \n",
      " 1 ->  4: 9.8723e-06 5.2473e-01\n",
      " 4 ->  5: 1.9894e-05 1.0000e+00\n",
      "bottleneck:  1 ->  4\n",
      " flux from path  [0, 1, 4, 5] : 9.8723e-06\n",
      " fluxes [1.881385116940691e-05, 9.8722858609786206e-06, 1.9894151810760102e-05]\n",
      " leftover flux: 1.8634e-05;       0.65  \n",
      "\n",
      " shortest path: [0, 2, 4, 5] 0.989110319992\n",
      " 0 ->  2: 9.6928e-06 \n",
      " 2 ->  4: 7.7050e-06 7.1499e-01\n",
      " 4 ->  5: 1.0022e-05 1.0000e+00\n",
      "bottleneck:  2 ->  4\n",
      " flux from path  [0, 2, 4, 5] : 6.9303e-06\n",
      " fluxes [9.6927897544152864e-06, 7.7050365743260838e-06, 1.0021865949781416e-05]\n",
      " leftover flux: 1.1704e-05;       0.41  \n",
      "\n",
      " shortest path: [0, 1, 3, 5] 0.636650223097\n",
      " 0 ->  1: 8.9416e-06 \n",
      " 1 ->  3: 7.8579e-06 8.7881e-01\n",
      " 3 ->  5: 8.6125e-06 7.8802e-01\n",
      "bottleneck:  1 ->  3\n",
      " flux from path  [0, 1, 3, 5] : 6.1922e-06\n",
      " fluxes [8.9415653084282235e-06, 7.8579406651021719e-06, 8.6124891130625465e-06]\n",
      " leftover flux: 5.5119e-06;       0.19  \n",
      "\n",
      " shortest path: [0, 2, 3, 5] 1.58725143922\n",
      " 0 ->  2: 2.7625e-06 \n",
      " 2 ->  3: 3.0714e-06 7.9856e-01\n",
      " 3 ->  5: 2.4203e-06 5.1092e-01\n",
      "bottleneck:  3 ->  5\n",
      " flux from path  [0, 2, 3, 5] : 1.1271e-06\n",
      " fluxes [2.7625347726956264e-06, 3.0713778234155748e-06, 2.420298035422689e-06]\n",
      " leftover flux: 4.3848e-06;       0.15  \n",
      "\n",
      " shortest path: [0, 1, 3, 4, 5] 1.41137999176\n",
      " 0 ->  1: 2.7494e-06 \n",
      " 1 ->  3: 1.6657e-06 6.0586e-01\n",
      " 3 ->  4: 2.3168e-06 6.4178e-01\n",
      " 4 ->  5: 3.0916e-06 1.0000e+00\n",
      "bottleneck:  1 ->  3\n",
      " flux from path  [0, 1, 3, 4, 5] : 1.0690e-06\n",
      " fluxes [2.749374230788366e-06, 1.6657495874623144e-06, 2.3168293754552666e-06, 3.0916109680617556e-06]\n",
      " leftover flux: 3.3158e-06;       0.12  \n",
      "\n",
      " shortest path: [0, 2, 3, 5] 1.71762024168\n",
      " 0 ->  2: 1.6354e-06 \n",
      " 2 ->  3: 1.9443e-06 7.1505e-01\n",
      " 3 ->  5: 1.2932e-06 5.0893e-01\n",
      "bottleneck:  3 ->  5\n",
      " flux from path  [0, 2, 3, 5] : 5.9515e-07\n",
      " fluxes [1.6354216686334147e-06, 1.9442647193533633e-06, 1.2931849313604774e-06]\n",
      " leftover flux: 2.7206e-06;       0.10  \n",
      "\n",
      " shortest path: [0, 1, 2, 3, 4, 5] 1.81865637561\n",
      " 0 ->  1: 1.6803e-06 \n",
      " 1 ->  2: 1.0836e-06 6.4489e-01\n",
      " 2 ->  3: 1.3491e-06 6.3521e-01\n",
      " 3 ->  4: 1.2478e-06 6.4127e-01\n",
      " 4 ->  5: 2.0226e-06 1.0000e+00\n",
      "bottleneck:  1 ->  2\n",
      " flux from path  [0, 1, 2, 3, 4, 5] : 4.4140e-07\n",
      " fluxes [1.6803320474654083e-06, 1.0836246433262714e-06, 1.3491108337141705e-06, 1.2477871921323089e-06, 2.022568784738798e-06]\n",
      " leftover flux: 2.2792e-06;       0.08  \n",
      "\n",
      " shortest path: [0, 2, 4, 5] 1.5597967484\n",
      " 0 ->  2: 1.0403e-06 \n",
      " 2 ->  4: 7.7478e-07 4.6050e-01\n",
      " 4 ->  5: 1.5812e-06 1.0000e+00\n",
      "bottleneck:  2 ->  4\n",
      " flux from path  [0, 2, 4, 5] : 4.7904e-07\n",
      " fluxes [1.0402677829942221e-06, 7.7478159260642383e-07, 1.5811688745842153e-06]\n",
      " leftover flux: 1.8002e-06;       0.06  \n",
      "\n",
      " shortest path: [0, 1, 3, 4, 5] 1.72780168134\n",
      " 0 ->  1: 1.2389e-06 \n",
      " 1 ->  3: 5.9671e-07 4.8163e-01\n",
      " 3 ->  4: 8.0639e-07 5.3601e-01\n",
      " 4 ->  5: 1.1021e-06 1.0000e+00\n",
      "bottleneck:  1 ->  3\n",
      " flux from path  [0, 1, 3, 4, 5] : 3.1984e-07\n",
      " fluxes [1.2389321373108256e-06, 5.9670740413935673e-07, 8.0638728197772626e-07, 1.1021294007670217e-06]\n",
      " leftover flux: 1.4803e-06;       0.05  \n",
      "\n",
      " shortest path: [0, 1, 2, 3, 5] 1.64597427142\n",
      " 0 ->  1: 9.1909e-07 \n",
      " 1 ->  2: 6.4222e-07 6.9876e-01\n",
      " 2 ->  3: 9.0771e-07 7.5426e-01\n",
      " 3 ->  5: 6.9803e-07 5.8927e-01\n",
      "bottleneck:  1 ->  2\n",
      " flux from path  [0, 1, 2, 3, 5] : 2.8544e-07\n",
      " fluxes [9.1908940946001982e-07, 6.4222473317168871e-07, 9.077109235595878e-07, 6.9803104572128465e-07]\n",
      " leftover flux: 1.1949e-06;       0.04  \n",
      "\n",
      " shortest path: [0, 2, 3, 4, 5] 1.75861034376\n",
      " 0 ->  2: 5.6123e-07 \n",
      " 2 ->  3: 6.2227e-07 6.7784e-01\n",
      " 3 ->  4: 4.8654e-07 5.4113e-01\n",
      " 4 ->  5: 7.8229e-07 1.0000e+00\n",
      "bottleneck:  3 ->  4\n",
      " flux from path  [0, 2, 3, 4, 5] : 2.0586e-07\n",
      " fluxes [5.6122830917702841e-07, 6.2226923898293384e-07, 4.8654455412692044e-07, 7.822866729162159e-07]\n",
      " leftover flux: 9.8902e-07;       0.03  \n",
      "\n",
      " shortest path: [0, 1, 3, 5] 1.79215857665\n",
      " 0 ->  1: 6.3365e-07 \n",
      " 1 ->  3: 2.7686e-07 4.3694e-01\n",
      " 3 ->  5: 4.1259e-07 5.9513e-01\n",
      "bottleneck:  1 ->  3\n",
      " flux from path  [0, 1, 3, 5] : 1.6477e-07\n",
      " fluxes [6.3364772488336586e-07, 2.7686467628855096e-07, 4.1258936114463069e-07]\n",
      " leftover flux: 8.2425e-07;       0.03  \n",
      "\n",
      " shortest path: [0, 1, 2, 4, 5] 1.7161479656\n",
      " 0 ->  1: 4.6888e-07 \n",
      " 1 ->  2: 3.5678e-07 7.6093e-01\n",
      " 2 ->  4: 2.9574e-07 4.1528e-01\n",
      " 4 ->  5: 5.7643e-07 1.0000e+00\n",
      "bottleneck:  2 ->  4\n",
      " flux from path  [0, 1, 2, 4, 5] : 1.4816e-07\n",
      " fluxes [4.6887718611219948e-07, 3.5678304859503476e-07, 2.9574211878923013e-07, 5.7642851413207868e-07]\n",
      " leftover flux: 6.7608e-07;       0.02  \n",
      "\n",
      " shortest path: [0, 2, 3, 4, 5] 1.57933183792\n",
      " 0 ->  2: 3.5537e-07 \n",
      " 2 ->  3: 4.1641e-07 7.3833e-01\n",
      " 3 ->  4: 2.8069e-07 5.3109e-01\n",
      " 4 ->  5: 4.2826e-07 1.0000e+00\n",
      "bottleneck:  3 ->  4\n",
      " flux from path  [0, 2, 3, 4, 5] : 1.3935e-07\n",
      " fluxes [3.5537015039289126e-07, 4.1641108019879668e-07, 2.8068639534278328e-07, 4.2826408140952151e-07]\n",
      " leftover flux: 5.3673e-07;       0.02  \n",
      "\n",
      " shortest path: [0, 2, 3, 5] 1.78840912385\n",
      " 0 ->  2: 2.1602e-07 \n",
      " 2 ->  3: 2.7706e-07 6.5246e-01\n",
      " 3 ->  5: 2.4782e-07 6.3681e-01\n",
      "bottleneck:  0 ->  2\n",
      " flux from path  [0, 2, 3, 5] : 8.9756e-08\n",
      " fluxes [2.1602083050110707e-07, 2.7706176030701249e-07, 2.4781882237346431e-07]\n",
      " leftover flux: 4.4698e-07;       0.02  \n",
      "\n",
      " shortest path: [0, 1, 2, 4, 5] 1.58142950286\n",
      " 0 ->  1: 3.2071e-07 \n",
      " 1 ->  2: 2.0862e-07 6.5048e-01\n",
      " 2 ->  4: 1.4758e-07 4.4068e-01\n",
      " 4 ->  5: 2.8891e-07 1.0000e+00\n",
      "bottleneck:  2 ->  4\n",
      " flux from path  [0, 1, 2, 4, 5] : 9.1935e-08\n",
      " fluxes [3.207127533896423e-07, 2.0861861587247756e-07, 1.4757768606667293e-07, 2.8891476151773732e-07]\n",
      " leftover flux: 3.5504e-07;       0.01  \n",
      "\n",
      " shortest path: [0, 1, 3, 5] 1.79168687081\n",
      " 0 ->  1: 2.2878e-07 \n",
      " 1 ->  3: 1.1209e-07 4.8997e-01\n",
      " 3 ->  5: 1.5806e-07 5.2793e-01\n",
      "bottleneck:  1 ->  3\n",
      " flux from path  [0, 1, 3, 5] : 5.9178e-08\n",
      " fluxes [2.2877797660855863e-07, 1.1209413751738458e-07, 1.5806301501950582e-07]\n",
      " leftover flux: 2.9586e-07;       0.01  \n",
      "\n",
      " shortest path: [0, 2, 3, 4, 5] 1.64204305364\n",
      " 0 ->  2: 1.2627e-07 \n",
      " 2 ->  3: 1.8731e-07 7.7097e-01\n",
      " 3 ->  4: 1.4134e-07 5.8836e-01\n",
      " 4 ->  5: 1.9698e-07 1.0000e+00\n",
      "bottleneck:  0 ->  2\n",
      " flux from path  [0, 2, 3, 4, 5] : 5.7275e-08\n",
      " fluxes [1.2626502314714858e-07, 1.87305952953054e-07, 1.4133707545099909e-07, 1.9697998473665365e-07]\n",
      " leftover flux: 2.3859e-07;       0.01  \n",
      "\n"
     ]
    }
   ],
   "source": [
    "while True:\n",
    "    Jnode, Jpath = tpt_functions.gen_path_lengths(range(6), bhs.J, bhs.pfold, \\\n",
    "                                     bhs.sum_flux, [5], [0])\n",
    "    # generate nx graph from matrix\n",
    "    JpathG = nx.DiGraph(Jpath.transpose())\n",
    "    # find shortest path\n",
    "    try:\n",
    "        path = nx.dijkstra_path(JpathG, 0, 5)\n",
    "        pathlength = nx.dijkstra_path_length(JpathG, 0, 5)\n",
    "        print \" shortest path:\", path, pathlength\n",
    "    except nx.NetworkXNoPath:\n",
    "        print \" No path for %g -> %g\\n Stopping here\"%(0, 5)\n",
    "        break\n",
    "    \n",
    "    # calculate contribution to flux\n",
    "    f = bhs.J[path[1],path[0]]\n",
    "    print \"%2i -> %2i: %10.4e \"%(path[0], path[1], bhs.J[path[1],path[0]])\n",
    "    path_fluxes = [f]\n",
    "    for j in range(2, len(path)):\n",
    "        i = j - 1\n",
    "        print \"%2i -> %2i: %10.4e %10.4e\"%(path[i], path[j], \\\n",
    "            bhs.J[path[j],path[i]], \\\n",
    "            bhs.J[path[j],path[i]]/Jnode[path[i]])\n",
    "        f *= bhs.J[path[j],path[i]]/Jnode[path[i]]\n",
    "        path_fluxes.append(bhs.J[path[j],path[i]])\n",
    "\n",
    "    # find bottleneck\n",
    "    ib = np.argmin(path_fluxes)\n",
    "    print \"bottleneck: %2i -> %2i\"%(path[ib],path[ib+1])\n",
    "        \n",
    "    # remove flux from edges\n",
    "    for j in range(1,len(path)):\n",
    "        i = j - 1\n",
    "        bhs.J[path[j],path[i]] -= f\n",
    "    #bhs.J[path[ib],path[ib+1]] -= f\n",
    "        \n",
    "    # numerically there may be some leftover flux in bottleneck\n",
    "    #bhs.J[path[ib],path[ib+1]] = 0.\n",
    "    \n",
    "    bhs.sum_flux -= f\n",
    "    print ' flux from path ', path, ': %10.4e'%f\n",
    "    print ' fluxes', path_fluxes\n",
    "    print ' leftover flux: %10.4e; %10.2f  \\n'%(bhs.sum_flux, bhs.sum_flux/tot_flux)\n",
    "    if bhs.sum_flux/tot_flux < 0.01:\n",
    "        break"
   ]
  },
  {
   "cell_type": "markdown",
   "metadata": {},
   "source": [
    "Here we find that the elimination of flux from edges fails to reproduce the correct order of paths as obtained from the exhaustive enumeration."
   ]
  }
 ],
 "metadata": {
  "kernelspec": {
   "display_name": "Python 2",
   "language": "python",
   "name": "python2"
  },
  "language_info": {
   "codemirror_mode": {
    "name": "ipython",
    "version": 2
   },
   "file_extension": ".py",
   "mimetype": "text/x-python",
   "name": "python",
   "nbconvert_exporter": "python",
   "pygments_lexer": "ipython2",
   "version": "2.7.9"
  }
 },
 "nbformat": 4,
 "nbformat_minor": 0
}
